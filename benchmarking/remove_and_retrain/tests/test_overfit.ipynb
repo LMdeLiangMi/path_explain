{
 "cells": [
  {
   "cell_type": "code",
   "execution_count": 8,
   "metadata": {},
   "outputs": [],
   "source": [
    "import tensorflow as tf\n",
    "import numpy as np\n",
    "from data import ablate_interactions\n",
    "from get_performance import get_data\n",
    "from utils import get_default_model, compile_model\n",
    "from interactions import return_interaction_function"
   ]
  },
  {
   "cell_type": "code",
   "execution_count": 15,
   "metadata": {},
   "outputs": [],
   "source": [
    "x_train, y_train, x_test, y_test, spec_df = get_data('simulated_maximum')"
   ]
  },
  {
   "cell_type": "code",
   "execution_count": 16,
   "metadata": {},
   "outputs": [
    {
     "name": "stdout",
     "output_type": "stream",
     "text": [
      "Train on 3200 samples, validate on 800 samples\n",
      "Epoch 1/200\n",
      "3200/3200 - 1s - loss: 0.5779 - mean_squared_error: 0.5779 - val_loss: 0.1476 - val_mean_squared_error: 0.1476\n",
      "Epoch 2/200\n",
      "3200/3200 - 0s - loss: 0.0800 - mean_squared_error: 0.0800 - val_loss: 0.0509 - val_mean_squared_error: 0.0509\n",
      "Epoch 3/200\n",
      "3200/3200 - 0s - loss: 0.0388 - mean_squared_error: 0.0388 - val_loss: 0.0321 - val_mean_squared_error: 0.0321\n",
      "Epoch 4/200\n",
      "3200/3200 - 0s - loss: 0.0270 - mean_squared_error: 0.0270 - val_loss: 0.0262 - val_mean_squared_error: 0.0262\n",
      "Epoch 5/200\n",
      "3200/3200 - 0s - loss: 0.0227 - mean_squared_error: 0.0227 - val_loss: 0.0242 - val_mean_squared_error: 0.0242\n",
      "Epoch 6/200\n",
      "3200/3200 - 0s - loss: 0.0204 - mean_squared_error: 0.0204 - val_loss: 0.0233 - val_mean_squared_error: 0.0233\n",
      "Epoch 7/200\n",
      "3200/3200 - 0s - loss: 0.0188 - mean_squared_error: 0.0188 - val_loss: 0.0220 - val_mean_squared_error: 0.0220\n",
      "Epoch 8/200\n",
      "3200/3200 - 0s - loss: 0.0171 - mean_squared_error: 0.0171 - val_loss: 0.0203 - val_mean_squared_error: 0.0203\n",
      "Epoch 9/200\n",
      "3200/3200 - 0s - loss: 0.0153 - mean_squared_error: 0.0153 - val_loss: 0.0195 - val_mean_squared_error: 0.0195\n",
      "Epoch 10/200\n",
      "3200/3200 - 0s - loss: 0.0142 - mean_squared_error: 0.0142 - val_loss: 0.0200 - val_mean_squared_error: 0.0200\n",
      "Epoch 11/200\n",
      "3200/3200 - 0s - loss: 0.0134 - mean_squared_error: 0.0134 - val_loss: 0.0184 - val_mean_squared_error: 0.0184\n",
      "Epoch 12/200\n",
      "3200/3200 - 0s - loss: 0.0123 - mean_squared_error: 0.0123 - val_loss: 0.0169 - val_mean_squared_error: 0.0169\n",
      "Epoch 13/200\n",
      "3200/3200 - 0s - loss: 0.0112 - mean_squared_error: 0.0112 - val_loss: 0.0166 - val_mean_squared_error: 0.0166\n",
      "Epoch 14/200\n",
      "3200/3200 - 0s - loss: 0.0109 - mean_squared_error: 0.0109 - val_loss: 0.0157 - val_mean_squared_error: 0.0157\n",
      "Epoch 15/200\n",
      "3200/3200 - 0s - loss: 0.0094 - mean_squared_error: 0.0094 - val_loss: 0.0158 - val_mean_squared_error: 0.0158\n",
      "Epoch 16/200\n",
      "3200/3200 - 0s - loss: 0.0092 - mean_squared_error: 0.0092 - val_loss: 0.0150 - val_mean_squared_error: 0.0150\n",
      "Epoch 17/200\n",
      "3200/3200 - 0s - loss: 0.0083 - mean_squared_error: 0.0083 - val_loss: 0.0138 - val_mean_squared_error: 0.0138\n",
      "Epoch 18/200\n",
      "3200/3200 - 0s - loss: 0.0080 - mean_squared_error: 0.0080 - val_loss: 0.0135 - val_mean_squared_error: 0.0135\n",
      "Epoch 19/200\n",
      "3200/3200 - 0s - loss: 0.0070 - mean_squared_error: 0.0070 - val_loss: 0.0137 - val_mean_squared_error: 0.0137\n",
      "Epoch 20/200\n",
      "3200/3200 - 0s - loss: 0.0065 - mean_squared_error: 0.0065 - val_loss: 0.0128 - val_mean_squared_error: 0.0128\n",
      "Epoch 21/200\n",
      "3200/3200 - 0s - loss: 0.0060 - mean_squared_error: 0.0060 - val_loss: 0.0117 - val_mean_squared_error: 0.0117\n",
      "Epoch 22/200\n",
      "3200/3200 - 0s - loss: 0.0058 - mean_squared_error: 0.0058 - val_loss: 0.0116 - val_mean_squared_error: 0.0116\n",
      "Epoch 23/200\n",
      "3200/3200 - 0s - loss: 0.0067 - mean_squared_error: 0.0067 - val_loss: 0.0131 - val_mean_squared_error: 0.0131\n",
      "Epoch 24/200\n",
      "3200/3200 - 0s - loss: 0.0060 - mean_squared_error: 0.0060 - val_loss: 0.0100 - val_mean_squared_error: 0.0100\n",
      "Epoch 25/200\n",
      "3200/3200 - 0s - loss: 0.0046 - mean_squared_error: 0.0046 - val_loss: 0.0097 - val_mean_squared_error: 0.0097\n",
      "Epoch 26/200\n",
      "3200/3200 - 0s - loss: 0.0044 - mean_squared_error: 0.0044 - val_loss: 0.0102 - val_mean_squared_error: 0.0102\n",
      "Epoch 27/200\n",
      "3200/3200 - 0s - loss: 0.0051 - mean_squared_error: 0.0051 - val_loss: 0.0107 - val_mean_squared_error: 0.0107\n",
      "Epoch 28/200\n",
      "3200/3200 - 0s - loss: 0.0044 - mean_squared_error: 0.0044 - val_loss: 0.0088 - val_mean_squared_error: 0.0088\n",
      "Epoch 29/200\n",
      "3200/3200 - 0s - loss: 0.0039 - mean_squared_error: 0.0039 - val_loss: 0.0089 - val_mean_squared_error: 0.0089\n",
      "Epoch 30/200\n",
      "3200/3200 - 0s - loss: 0.0037 - mean_squared_error: 0.0037 - val_loss: 0.0082 - val_mean_squared_error: 0.0082\n",
      "Epoch 31/200\n",
      "3200/3200 - 0s - loss: 0.0035 - mean_squared_error: 0.0035 - val_loss: 0.0079 - val_mean_squared_error: 0.0079\n",
      "Epoch 32/200\n",
      "3200/3200 - 0s - loss: 0.0034 - mean_squared_error: 0.0034 - val_loss: 0.0076 - val_mean_squared_error: 0.0076\n",
      "Epoch 33/200\n",
      "3200/3200 - 0s - loss: 0.0036 - mean_squared_error: 0.0036 - val_loss: 0.0079 - val_mean_squared_error: 0.0079\n",
      "Epoch 34/200\n",
      "3200/3200 - 0s - loss: 0.0030 - mean_squared_error: 0.0030 - val_loss: 0.0086 - val_mean_squared_error: 0.0086\n",
      "Epoch 35/200\n",
      "3200/3200 - 0s - loss: 0.0030 - mean_squared_error: 0.0030 - val_loss: 0.0072 - val_mean_squared_error: 0.0072\n",
      "Epoch 36/200\n",
      "3200/3200 - 0s - loss: 0.0026 - mean_squared_error: 0.0026 - val_loss: 0.0068 - val_mean_squared_error: 0.0068\n",
      "Epoch 37/200\n",
      "3200/3200 - 0s - loss: 0.0026 - mean_squared_error: 0.0026 - val_loss: 0.0067 - val_mean_squared_error: 0.0067\n",
      "Epoch 38/200\n",
      "3200/3200 - 0s - loss: 0.0027 - mean_squared_error: 0.0027 - val_loss: 0.0073 - val_mean_squared_error: 0.0073\n",
      "Epoch 39/200\n",
      "3200/3200 - 0s - loss: 0.0029 - mean_squared_error: 0.0029 - val_loss: 0.0065 - val_mean_squared_error: 0.0065\n",
      "Epoch 40/200\n",
      "3200/3200 - 0s - loss: 0.0025 - mean_squared_error: 0.0025 - val_loss: 0.0063 - val_mean_squared_error: 0.0063\n",
      "Epoch 41/200\n",
      "3200/3200 - 0s - loss: 0.0023 - mean_squared_error: 0.0023 - val_loss: 0.0068 - val_mean_squared_error: 0.0068\n",
      "Epoch 42/200\n",
      "3200/3200 - 0s - loss: 0.0022 - mean_squared_error: 0.0022 - val_loss: 0.0062 - val_mean_squared_error: 0.0062\n",
      "Epoch 43/200\n",
      "3200/3200 - 0s - loss: 0.0021 - mean_squared_error: 0.0021 - val_loss: 0.0061 - val_mean_squared_error: 0.0061\n",
      "Epoch 44/200\n",
      "3200/3200 - 0s - loss: 0.0022 - mean_squared_error: 0.0022 - val_loss: 0.0068 - val_mean_squared_error: 0.0068\n",
      "Epoch 45/200\n",
      "3200/3200 - 0s - loss: 0.0025 - mean_squared_error: 0.0025 - val_loss: 0.0060 - val_mean_squared_error: 0.0060\n",
      "Epoch 46/200\n",
      "3200/3200 - 0s - loss: 0.0022 - mean_squared_error: 0.0022 - val_loss: 0.0056 - val_mean_squared_error: 0.0056\n",
      "Epoch 47/200\n",
      "3200/3200 - 0s - loss: 0.0021 - mean_squared_error: 0.0021 - val_loss: 0.0057 - val_mean_squared_error: 0.0057\n",
      "Epoch 48/200\n",
      "3200/3200 - 0s - loss: 0.0024 - mean_squared_error: 0.0024 - val_loss: 0.0060 - val_mean_squared_error: 0.0060\n",
      "Epoch 49/200\n",
      "3200/3200 - 0s - loss: 0.0019 - mean_squared_error: 0.0019 - val_loss: 0.0056 - val_mean_squared_error: 0.0056\n",
      "Epoch 50/200\n",
      "3200/3200 - 0s - loss: 0.0020 - mean_squared_error: 0.0020 - val_loss: 0.0058 - val_mean_squared_error: 0.0058\n",
      "Epoch 51/200\n",
      "3200/3200 - 0s - loss: 0.0021 - mean_squared_error: 0.0021 - val_loss: 0.0050 - val_mean_squared_error: 0.0050\n",
      "Epoch 52/200\n",
      "3200/3200 - 0s - loss: 0.0017 - mean_squared_error: 0.0017 - val_loss: 0.0060 - val_mean_squared_error: 0.0060\n",
      "Epoch 53/200\n",
      "3200/3200 - 0s - loss: 0.0019 - mean_squared_error: 0.0019 - val_loss: 0.0061 - val_mean_squared_error: 0.0061\n",
      "Epoch 54/200\n",
      "3200/3200 - 0s - loss: 0.0017 - mean_squared_error: 0.0017 - val_loss: 0.0053 - val_mean_squared_error: 0.0053\n",
      "Epoch 55/200\n",
      "3200/3200 - 0s - loss: 0.0015 - mean_squared_error: 0.0015 - val_loss: 0.0051 - val_mean_squared_error: 0.0051\n",
      "Epoch 56/200\n",
      "3200/3200 - 0s - loss: 0.0016 - mean_squared_error: 0.0016 - val_loss: 0.0054 - val_mean_squared_error: 0.0054\n",
      "Epoch 57/200\n",
      "3200/3200 - 0s - loss: 0.0019 - mean_squared_error: 0.0019 - val_loss: 0.0050 - val_mean_squared_error: 0.0050\n",
      "Epoch 58/200\n",
      "3200/3200 - 0s - loss: 0.0018 - mean_squared_error: 0.0018 - val_loss: 0.0050 - val_mean_squared_error: 0.0050\n",
      "Epoch 59/200\n",
      "3200/3200 - 0s - loss: 0.0016 - mean_squared_error: 0.0016 - val_loss: 0.0053 - val_mean_squared_error: 0.0053\n",
      "Epoch 60/200\n",
      "3200/3200 - 0s - loss: 0.0015 - mean_squared_error: 0.0015 - val_loss: 0.0054 - val_mean_squared_error: 0.0054\n",
      "Epoch 61/200\n",
      "3200/3200 - 0s - loss: 0.0015 - mean_squared_error: 0.0015 - val_loss: 0.0047 - val_mean_squared_error: 0.0047\n",
      "Epoch 62/200\n",
      "3200/3200 - 0s - loss: 0.0014 - mean_squared_error: 0.0014 - val_loss: 0.0045 - val_mean_squared_error: 0.0045\n",
      "Epoch 63/200\n",
      "3200/3200 - 0s - loss: 0.0013 - mean_squared_error: 0.0013 - val_loss: 0.0045 - val_mean_squared_error: 0.0045\n",
      "Epoch 64/200\n",
      "3200/3200 - 0s - loss: 0.0013 - mean_squared_error: 0.0013 - val_loss: 0.0046 - val_mean_squared_error: 0.0046\n",
      "Epoch 65/200\n",
      "3200/3200 - 0s - loss: 0.0015 - mean_squared_error: 0.0015 - val_loss: 0.0046 - val_mean_squared_error: 0.0046\n",
      "Epoch 66/200\n",
      "3200/3200 - 0s - loss: 0.0014 - mean_squared_error: 0.0014 - val_loss: 0.0046 - val_mean_squared_error: 0.0046\n",
      "Epoch 67/200\n",
      "3200/3200 - 0s - loss: 0.0017 - mean_squared_error: 0.0017 - val_loss: 0.0045 - val_mean_squared_error: 0.0045\n",
      "Epoch 68/200\n",
      "3200/3200 - 0s - loss: 0.0013 - mean_squared_error: 0.0013 - val_loss: 0.0053 - val_mean_squared_error: 0.0053\n",
      "Epoch 69/200\n",
      "3200/3200 - 0s - loss: 0.0013 - mean_squared_error: 0.0013 - val_loss: 0.0046 - val_mean_squared_error: 0.0046\n",
      "Epoch 70/200\n",
      "3200/3200 - 0s - loss: 0.0014 - mean_squared_error: 0.0014 - val_loss: 0.0051 - val_mean_squared_error: 0.0051\n",
      "Epoch 71/200\n",
      "3200/3200 - 0s - loss: 0.0017 - mean_squared_error: 0.0017 - val_loss: 0.0046 - val_mean_squared_error: 0.0046\n",
      "Epoch 72/200\n",
      "3200/3200 - 0s - loss: 0.0013 - mean_squared_error: 0.0013 - val_loss: 0.0041 - val_mean_squared_error: 0.0041\n",
      "Epoch 73/200\n",
      "3200/3200 - 0s - loss: 0.0011 - mean_squared_error: 0.0011 - val_loss: 0.0050 - val_mean_squared_error: 0.0050\n",
      "Epoch 74/200\n",
      "3200/3200 - 0s - loss: 0.0014 - mean_squared_error: 0.0014 - val_loss: 0.0040 - val_mean_squared_error: 0.0040\n",
      "Epoch 75/200\n",
      "3200/3200 - 0s - loss: 0.0013 - mean_squared_error: 0.0013 - val_loss: 0.0041 - val_mean_squared_error: 0.0041\n",
      "Epoch 76/200\n",
      "3200/3200 - 0s - loss: 0.0010 - mean_squared_error: 0.0010 - val_loss: 0.0039 - val_mean_squared_error: 0.0039\n",
      "Epoch 77/200\n",
      "3200/3200 - 0s - loss: 0.0011 - mean_squared_error: 0.0011 - val_loss: 0.0040 - val_mean_squared_error: 0.0040\n",
      "Epoch 78/200\n",
      "3200/3200 - 0s - loss: 0.0013 - mean_squared_error: 0.0013 - val_loss: 0.0044 - val_mean_squared_error: 0.0044\n",
      "Epoch 79/200\n",
      "3200/3200 - 0s - loss: 0.0015 - mean_squared_error: 0.0015 - val_loss: 0.0042 - val_mean_squared_error: 0.0042\n",
      "Epoch 80/200\n",
      "3200/3200 - 0s - loss: 0.0013 - mean_squared_error: 0.0013 - val_loss: 0.0041 - val_mean_squared_error: 0.0041\n",
      "Epoch 81/200\n",
      "3200/3200 - 0s - loss: 0.0010 - mean_squared_error: 0.0010 - val_loss: 0.0040 - val_mean_squared_error: 0.0040\n",
      "Epoch 82/200\n",
      "3200/3200 - 0s - loss: 0.0011 - mean_squared_error: 0.0011 - val_loss: 0.0040 - val_mean_squared_error: 0.0040\n",
      "Epoch 83/200\n",
      "3200/3200 - 0s - loss: 0.0012 - mean_squared_error: 0.0012 - val_loss: 0.0046 - val_mean_squared_error: 0.0046\n",
      "Epoch 84/200\n",
      "3200/3200 - 0s - loss: 0.0013 - mean_squared_error: 0.0013 - val_loss: 0.0044 - val_mean_squared_error: 0.0044\n",
      "Epoch 85/200\n",
      "3200/3200 - 0s - loss: 0.0016 - mean_squared_error: 0.0016 - val_loss: 0.0043 - val_mean_squared_error: 0.0043\n",
      "Epoch 86/200\n",
      "3200/3200 - 0s - loss: 0.0012 - mean_squared_error: 0.0012 - val_loss: 0.0046 - val_mean_squared_error: 0.0046\n"
     ]
    },
    {
     "data": {
      "text/plain": [
       "<tensorflow.python.keras.callbacks.History at 0x7f51441b4090>"
      ]
     },
     "execution_count": 16,
     "metadata": {},
     "output_type": "execute_result"
    }
   ],
   "source": [
    "model = get_default_model(x_train.shape[1])\n",
    "compile_model(model)\n",
    "random_weights = model.get_weights()\n",
    "\n",
    "callback = tf.keras.callbacks.EarlyStopping(monitor='val_loss',\n",
    "                                                patience=10,\n",
    "                                                mode='min')\n",
    "model.fit(x=x_train,\n",
    "          y=y_train,\n",
    "          batch_size=128,\n",
    "          epochs=200,\n",
    "          verbose=2,\n",
    "          validation_split=0.2,\n",
    "          callbacks=[callback])"
   ]
  },
  {
   "cell_type": "code",
   "execution_count": 9,
   "metadata": {},
   "outputs": [],
   "source": [
    "interaction_function = return_interaction_function('hessians')"
   ]
  },
  {
   "cell_type": "code",
   "execution_count": 10,
   "metadata": {},
   "outputs": [
    {
     "name": "stderr",
     "output_type": "stream",
     "text": [
      "100%|██████████| 40/40 [01:27<00:00,  2.20s/it]\n",
      "100%|██████████| 10/10 [00:21<00:00,  2.16s/it]\n"
     ]
    }
   ],
   "source": [
    "interactions_train = interaction_function(model, x_train, baseline=x_test)\n",
    "interactions_test  = interaction_function(model, x_test, baseline=x_train)"
   ]
  },
  {
   "cell_type": "code",
   "execution_count": 17,
   "metadata": {},
   "outputs": [],
   "source": [
    "y_train = ablate_interactions(x_train,\n",
    "                              interactions_train,\n",
    "                              spec_df,\n",
    "                              k=10,\n",
    "                              using_random_draw=False)\n",
    "y_test  = ablate_interactions(x_test,\n",
    "                              interactions_test,\n",
    "                              spec_df,\n",
    "                              k=10,\n",
    "                              using_random_draw=False)"
   ]
  },
  {
   "cell_type": "code",
   "execution_count": 18,
   "metadata": {},
   "outputs": [],
   "source": [
    "model.set_weights(random_weights)"
   ]
  },
  {
   "cell_type": "code",
   "execution_count": 19,
   "metadata": {},
   "outputs": [
    {
     "name": "stdout",
     "output_type": "stream",
     "text": [
      "Train on 3200 samples, validate on 800 samples\n",
      "Epoch 1/200\n",
      "3200/3200 - 0s - loss: 1.0930 - mean_squared_error: 1.0930 - val_loss: 0.8897 - val_mean_squared_error: 0.8897\n",
      "Epoch 2/200\n",
      "3200/3200 - 0s - loss: 0.8457 - mean_squared_error: 0.8457 - val_loss: 0.9025 - val_mean_squared_error: 0.9025\n",
      "Epoch 3/200\n",
      "3200/3200 - 0s - loss: 0.8391 - mean_squared_error: 0.8391 - val_loss: 0.8904 - val_mean_squared_error: 0.8904\n",
      "Epoch 4/200\n",
      "3200/3200 - 0s - loss: 0.8137 - mean_squared_error: 0.8137 - val_loss: 0.8875 - val_mean_squared_error: 0.8875\n",
      "Epoch 5/200\n",
      "3200/3200 - 0s - loss: 0.8014 - mean_squared_error: 0.8014 - val_loss: 0.8842 - val_mean_squared_error: 0.8842\n",
      "Epoch 6/200\n",
      "3200/3200 - 0s - loss: 0.7812 - mean_squared_error: 0.7812 - val_loss: 0.9092 - val_mean_squared_error: 0.9092\n",
      "Epoch 7/200\n",
      "3200/3200 - 0s - loss: 0.7891 - mean_squared_error: 0.7891 - val_loss: 0.8983 - val_mean_squared_error: 0.8983\n",
      "Epoch 8/200\n",
      "3200/3200 - 0s - loss: 0.7628 - mean_squared_error: 0.7628 - val_loss: 0.9574 - val_mean_squared_error: 0.9574\n"
     ]
    },
    {
     "data": {
      "text/plain": [
       "<tensorflow.python.keras.callbacks.History at 0x7f51143d5290>"
      ]
     },
     "execution_count": 19,
     "metadata": {},
     "output_type": "execute_result"
    }
   ],
   "source": [
    "callback = tf.keras.callbacks.EarlyStopping(monitor='val_loss',\n",
    "                                            patience=3,\n",
    "                                            mode='min')\n",
    "model.fit(x=x_train,\n",
    "          y=y_train,\n",
    "          batch_size=128,\n",
    "          epochs=200,\n",
    "          verbose=2,\n",
    "          validation_split=0.2,\n",
    "          callbacks=[callback])"
   ]
  }
 ],
 "metadata": {
  "kernelspec": {
   "display_name": "Python 3",
   "language": "python",
   "name": "python3"
  },
  "language_info": {
   "codemirror_mode": {
    "name": "ipython",
    "version": 3
   },
   "file_extension": ".py",
   "mimetype": "text/x-python",
   "name": "python",
   "nbconvert_exporter": "python",
   "pygments_lexer": "ipython3",
   "version": "3.7.4"
  }
 },
 "nbformat": 4,
 "nbformat_minor": 4
}
