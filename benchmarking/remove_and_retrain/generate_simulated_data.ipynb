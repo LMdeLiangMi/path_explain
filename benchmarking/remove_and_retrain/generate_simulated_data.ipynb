{
 "cells": [
  {
   "cell_type": "code",
   "execution_count": 1,
   "metadata": {},
   "outputs": [],
   "source": [
    "import numpy as np\n",
    "from sklearn.model_selection import train_test_split"
   ]
  },
  {
   "cell_type": "code",
   "execution_count": 20,
   "metadata": {},
   "outputs": [],
   "source": [
    "def all_interaction_indices(n):\n",
    "    return np.stack(np.triu_indices(n, k = 1), axis=1)"
   ]
  },
  {
   "cell_type": "code",
   "execution_count": 22,
   "metadata": {},
   "outputs": [
    {
     "data": {
      "text/plain": [
       "(45, 2)"
      ]
     },
     "execution_count": 22,
     "metadata": {},
     "output_type": "execute_result"
    }
   ],
   "source": [
    "all_interaction_indices(10).shape"
   ]
  },
  {
   "cell_type": "code",
   "execution_count": 16,
   "metadata": {},
   "outputs": [
    {
     "data": {
      "text/plain": [
       "<function __main__.all_interaction_indices(n)>"
      ]
     },
     "execution_count": 16,
     "metadata": {},
     "output_type": "execute_result"
    }
   ],
   "source": [
    "all_interaction_indices"
   ]
  },
  {
   "cell_type": "code",
   "execution_count": null,
   "metadata": {},
   "outputs": [],
   "source": [
    "x = np.random.normal(0.0, 1.0, size=(4000, 5)).astype(np.float32)\n",
    "\n",
    "y = 10 * np.maximum(x[:,0], x[:,1])\\\n",
    "    -9 * np.minimum(x[:,0], x[:,2])\\\n",
    "    +8 * np.minimum(x[:,0], x[:,3])\\\n",
    "    -7 * np.maximum(x[:,0], x[:,4])\\\n",
    "    +6 * np.maximum(x[:,1], x[:,2])\\\n",
    "    -5 * np.minimum(x[:,1], x[:,3])\\\n",
    "    +4 * np.minimum(x[:,1], x[:,4])\\\n",
    "    -3 * np.maximum(x[:,2], x[:,3])\\\n",
    "    +2 * np.maximum(x[:,2], x[:,4])\n",
    "y = y / np.std(y)\n",
    "x_train, x_test, y_train, y_test = train_test_split(x,\n",
    "                                                    y,\n",
    "                                                    test_size=0.2,\n",
    "                                                    random_state=0)\n",
    "np.savez('data/simulated_5_max.npz', x_train=x_train, x_test=x_test, y_train=y_train, y_test=y_test)"
   ]
  },
  {
   "cell_type": "code",
   "execution_count": null,
   "metadata": {},
   "outputs": [],
   "source": [
    "x = np.random.normal(0.0, 1.0, size=(4000, 5)).astype(np.float32)\n",
    "y = 10 * ((x[:,2] > 0.5) & (x[:,4] < 0.5))\\\n",
    "    -8 * ((x[:,0] > 1) & (x[:,2] < 0.25))\\\n",
    "    +6 * ((x[:,0] < 0) & (x[:,3] < 0.5))\\\n",
    "    -4 * ((x[:,1] < -0.25) & (x[:,4] > -0.5))\\\n",
    "    +2 * ((x[:,2] < -0.25) & (x[:,3] > -0.5))\n",
    "y = y / np.std(y)\n",
    "x_train, x_test, y_train, y_test = train_test_split(x,\n",
    "                                                    y,\n",
    "                                                    test_size=0.2,\n",
    "                                                    random_state=0)\n",
    "np.savez('data/simulated_5_and.npz', x_train=x_train, x_test=x_test, y_train=y_train, y_test=y_test)"
   ]
  },
  {
   "cell_type": "code",
   "execution_count": null,
   "metadata": {},
   "outputs": [],
   "source": [
    "x = np.random.randn(4000, 5).astype(np.float32)\n",
    "y = 7 * x[:, 3] * x[:, 4] * x[:, 0] + \\\n",
    "    6 * x[:, 0] * x[:, 1] * x[:, 2] - \\\n",
    "    4 * x[:, 0] * x[:, 2] * x[:, 3] + \\\n",
    "    3 * x[:, 0] * x[:, 3] * x[:, 4] - \\\n",
    "    2 * x[:, 1] * x[:, 3] * x[:, 4]\n",
    "y = y / np.std(y)\n",
    "x_train, x_test, y_train, y_test = train_test_split(x,\n",
    "                                                    y,\n",
    "                                                    test_size=0.2,\n",
    "                                                    random_state=0)\n",
    "np.savez('data/simulated_5_high.npz', x_train=x_train, x_test=x_test, y_train=y_train, y_test=y_test)"
   ]
  },
  {
   "cell_type": "code",
   "execution_count": null,
   "metadata": {},
   "outputs": [],
   "source": [
    "x = np.random.randn(4000, 5).astype(np.float32)\n",
    "y = 7 * x[:, 3] * x[:, 4] + \\\n",
    "    6 * x[:, 0] * x[:, 1] - \\\n",
    "    4 * x[:, 0] * x[:, 2] + \\\n",
    "    3 * x[:, 0] * x[:, 3] - \\\n",
    "    2 * x[:, 1] * x[:, 3] + \\\n",
    "    1 * x[:, 2] * x[:, 4]\n",
    "y = y / np.std(y)\n",
    "x_train, x_test, y_train, y_test = train_test_split(x,\n",
    "                                                    y,\n",
    "                                                    test_size=0.2,\n",
    "                                                    random_state=0)\n",
    "np.savez('data/simulated_5.npz', x_train=x_train, x_test=x_test, y_train=y_train, y_test=y_test)"
   ]
  },
  {
   "cell_type": "code",
   "execution_count": 2,
   "metadata": {},
   "outputs": [],
   "source": [
    "x = np.random.randn(4000, 10).astype(np.float32)\n",
    "y = 14 * x[:, 6] * x[:, 5] + \\\n",
    "    13 * x[:, 7] * x[:, 8] - \\\n",
    "    12 * x[:, 8] * x[:, 2] + \\\n",
    "    11 * x[:, 6] * x[:, 3] - \\\n",
    "    10 * x[:, 1] * x[:, 3] + \\\n",
    "    9 * x[:, 2] * x[:, 4] + \\\n",
    "    8 * x[:, 2] * x[:, 5] + \\\n",
    "    7 * x[:, 3] * x[:, 4] + \\\n",
    "    6 * x[:, 0] * x[:, 1] - \\\n",
    "    4 * x[:, 0] * x[:, 2] + \\\n",
    "    3 * x[:, 0] * x[:, 3] - \\\n",
    "    2 * x[:, 1] * x[:, 3] + \\\n",
    "    1 * x[:, 2] * x[:, 4]\n",
    "y = y / np.std(y)\n",
    "x_train, x_test, y_train, y_test = train_test_split(x,\n",
    "                                                    y,\n",
    "                                                    test_size=0.2,\n",
    "                                                    random_state=0)\n",
    "np.savez('data/simulated_10.npz', x_train=x_train, x_test=x_test, y_train=y_train, y_test=y_test)"
   ]
  },
  {
   "cell_type": "code",
   "execution_count": 3,
   "metadata": {},
   "outputs": [],
   "source": [
    "x = np.random.randn(4000, 10).astype(np.float32)\n",
    "y = 14 * x[:, 6] * x[:, 5] + \\\n",
    "    13 * np.maximum.reduce([x[:, 7], x[:, 8], x[:, 9]]) - \\\n",
    "    12 * np.minimum(x[:, 8], x[:, 2]) + \\\n",
    "    11 * x[:, 6] * x[:, 3] - \\\n",
    "    10 * np.maximum.reduce([x[:, 1], x[:, 3], x[:, 4]]) + \\\n",
    "    9 * x[:, 2] * x[:, 4] + \\\n",
    "    8 * x[:, 2] + \\\n",
    "    7 * x[:, 3] * x[:, 4] + \\\n",
    "    6 * np.maximum(x[:, 0], x[:, 1]) - \\\n",
    "    4 * x[:, 0] * x[:, 2] + \\\n",
    "    3 * x[:, 0] - \\\n",
    "    2 * x[:, 1] * x[:, 3] + \\\n",
    "    1 * x[:, 2] * x[:, 4]\n",
    "y = y / np.std(y)\n",
    "x_train, x_test, y_train, y_test = train_test_split(x,\n",
    "                                                    y,\n",
    "                                                    test_size=0.2,\n",
    "                                                    random_state=0)\n",
    "np.savez('data/simulated_10_varied.npz', x_train=x_train, x_test=x_test, y_train=y_train, y_test=y_test)"
   ]
  },
  {
   "cell_type": "code",
   "execution_count": null,
   "metadata": {},
   "outputs": [],
   "source": [
    "x = np.random.randn(500, 2).astype(np.float32)\n",
    "y = np.prod(x, axis=1)\n",
    "x_train, x_test, y_train, y_test = train_test_split(x,\n",
    "                                                    y,\n",
    "                                                    test_size=0.2,\n",
    "                                                    random_state=0)\n",
    "np.savez('data/simulated_2.npz', x_train=x_train, x_test=x_test, y_train=y_train, y_test=y_test)"
   ]
  }
 ],
 "metadata": {
  "kernelspec": {
   "display_name": "Python 3",
   "language": "python",
   "name": "python3"
  },
  "language_info": {
   "codemirror_mode": {
    "name": "ipython",
    "version": 3
   },
   "file_extension": ".py",
   "mimetype": "text/x-python",
   "name": "python",
   "nbconvert_exporter": "python",
   "pygments_lexer": "ipython3",
   "version": "3.7.4"
  }
 },
 "nbformat": 4,
 "nbformat_minor": 4
}
