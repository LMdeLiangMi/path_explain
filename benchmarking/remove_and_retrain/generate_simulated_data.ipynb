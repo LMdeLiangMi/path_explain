{
 "cells": [
  {
   "cell_type": "code",
   "execution_count": 2,
   "metadata": {},
   "outputs": [],
   "source": [
    "import numpy as np"
   ]
  },
  {
   "cell_type": "code",
   "execution_count": null,
   "metadata": {},
   "outputs": [],
   "source": [
    "x = np.random.normal(0.0, 1.0, size=(4000, 5)).astype(np.float32)\n",
    "\n",
    "y = 10 * np.maximum(x[:,0], x[:,1])\\\n",
    "    -9 * np.minimum(x[:,0], x[:,2])\\\n",
    "    +8 * np.minimum(x[:,0], x[:,3])\\\n",
    "    -7 * np.maximum(x[:,0], x[:,4])\\\n",
    "    +6 * np.maximum(x[:,1], x[:,2])\\\n",
    "    -5 * np.minimum(x[:,1], x[:,3])\\\n",
    "    +4 * np.minimum(x[:,1], x[:,4])\\\n",
    "    -3 * np.maximum(x[:,2], x[:,3])\\\n",
    "    +2 * np.maximum(x[:,2], x[:,4])\n",
    "y = y / np.std(y)\n",
    "np.save('data/simulated_5_max_x.npy', x)\n",
    "np.save('data/simulated_5_max_y.npy', y)"
   ]
  },
  {
   "cell_type": "code",
   "execution_count": 4,
   "metadata": {},
   "outputs": [],
   "source": [
    "x = np.random.normal(0.0, 1.0, size=(4000, 5)).astype(np.float32)\n",
    "y = 10 * ((x[:,2] > 0.5) & (x[:,4] < 0.5))\\\n",
    "    -8 * ((x[:,0] > 1) & (x[:,2] < 0.25))\\\n",
    "    +6 * ((x[:,0] < 0) & (x[:,3] < 0.5))\\\n",
    "    -4 * ((x[:,1] < -0.25) & (x[:,4] > -0.5))\\\n",
    "    +2 * ((x[:,2] < -0.25) & (x[:,3] > -0.5))\n",
    "y = y / np.std(y)\n",
    "np.save('data/simulated_5_and_x.npy', x)\n",
    "np.save('data/simulated_5_and_y.npy', y)"
   ]
  },
  {
   "cell_type": "code",
   "execution_count": 3,
   "metadata": {},
   "outputs": [],
   "source": [
    "x = np.random.randn(4000, 5).astype(np.float32)\n",
    "y = 7 * x[:, 3] * x[:, 4] * x[:, 0] + \\\n",
    "    6 * x[:, 0] * x[:, 1] * x[:, 2] - \\\n",
    "    4 * x[:, 0] * x[:, 2] * x[:, 3] + \\\n",
    "    3 * x[:, 0] * x[:, 3] * x[:, 4] - \\\n",
    "    2 * x[:, 1] * x[:, 3] * x[:, 4]\n",
    "y = y / np.std(y)\n",
    "np.save('data/higher_5_x.npy', x)\n",
    "np.save('data/higher_5_y.npy', y)"
   ]
  },
  {
   "cell_type": "code",
   "execution_count": 7,
   "metadata": {},
   "outputs": [],
   "source": [
    "x = np.random.randn(4000, 5).astype(np.float32)\n",
    "y = 7 * x[:, 3] * x[:, 4] + \\\n",
    "    6 * x[:, 0] * x[:, 1] - \\\n",
    "    4 * x[:, 0] * x[:, 2] + \\\n",
    "    3 * x[:, 0] * x[:, 3] - \\\n",
    "    2 * x[:, 1] * x[:, 3] + \\\n",
    "    1 * x[:, 2] * x[:, 4]\n",
    "y = y / np.std(y)\n",
    "np.save('data/simulated_5_x.npy', x)\n",
    "np.save('data/simulated_5_y.npy', y)"
   ]
  },
  {
   "cell_type": "code",
   "execution_count": 8,
   "metadata": {},
   "outputs": [],
   "source": [
    "x = np.random.randn(4000, 10).astype(np.float32)\n",
    "y = 14 * x[:, 6] * x[:, 5] + \\\n",
    "    13 * x[:, 7] * x[:, 8] - \\\n",
    "    12 * x[:, 8] * x[:, 2] + \\\n",
    "    11 * x[:, 6] * x[:, 3] - \\\n",
    "    10 * x[:, 1] * x[:, 3] + \\\n",
    "    9 * x[:, 2] * x[:, 4] + \\\n",
    "    8 * x[:, 2] * x[:, 5] + \\\n",
    "    7 * x[:, 3] * x[:, 4] + \\\n",
    "    6 * x[:, 0] * x[:, 1] - \\\n",
    "    4 * x[:, 0] * x[:, 2] + \\\n",
    "    3 * x[:, 0] * x[:, 3] - \\\n",
    "    2 * x[:, 1] * x[:, 3] + \\\n",
    "    1 * x[:, 2] * x[:, 4]\n",
    "y = y / np.std(y)\n",
    "np.save('data/simulated_10_x.npy', x)\n",
    "np.save('data/simulated_10_y.npy', y)"
   ]
  },
  {
   "cell_type": "code",
   "execution_count": 9,
   "metadata": {},
   "outputs": [],
   "source": [
    "x = np.random.randn(500, 2).astype(np.float32)\n",
    "y = np.prod(x, axis=1)\n",
    "np.save('data/simulated_2_x.npy', x)\n",
    "np.save('data/simulated_2_y.npy', y)"
   ]
  }
 ],
 "metadata": {
  "kernelspec": {
   "display_name": "Python 3",
   "language": "python",
   "name": "python3"
  },
  "language_info": {
   "codemirror_mode": {
    "name": "ipython",
    "version": 3
   },
   "file_extension": ".py",
   "mimetype": "text/x-python",
   "name": "python",
   "nbconvert_exporter": "python",
   "pygments_lexer": "ipython3",
   "version": "3.7.4"
  }
 },
 "nbformat": 4,
 "nbformat_minor": 4
}
