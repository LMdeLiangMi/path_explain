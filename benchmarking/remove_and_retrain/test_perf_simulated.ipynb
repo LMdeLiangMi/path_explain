{
 "cells": [
  {
   "cell_type": "code",
   "execution_count": 1,
   "metadata": {},
   "outputs": [],
   "source": [
    "%load_ext autoreload\n",
    "%autoreload 2"
   ]
  },
  {
   "cell_type": "code",
   "execution_count": 2,
   "metadata": {},
   "outputs": [],
   "source": [
    "import sys\n",
    "sys.path.append('..')"
   ]
  },
  {
   "cell_type": "code",
   "execution_count": 3,
   "metadata": {},
   "outputs": [],
   "source": [
    "import tensorflow as tf\n",
    "import numpy as np\n",
    "import matplotlib.pyplot as plt\n",
    "from build_model import interaction_model, get_subnetwork\n",
    "from utils import get_interaction_model\n",
    "from get_performance import get_data\n",
    "from sklearn.model_selection import KFold, StratifiedKFold, ParameterSampler, train_test_split"
   ]
  },
  {
   "cell_type": "code",
   "execution_count": 4,
   "metadata": {},
   "outputs": [],
   "source": [
    "from path_explain import utils, PathExplainerTF, scatter_plot, summary_plot\n",
    "utils.set_up_environment(visible_devices='2')"
   ]
  },
  {
   "cell_type": "code",
   "execution_count": 15,
   "metadata": {},
   "outputs": [],
   "source": [
    "x_train, y_train, x_test, y_test = get_data('pulsar')"
   ]
  },
  {
   "cell_type": "code",
   "execution_count": 17,
   "metadata": {},
   "outputs": [],
   "source": [
    "model = tf.keras.models.Sequential()\n",
    "model.add(tf.keras.layers.Input(shape=(x_train.shape[1],)))\n",
    "model.add(tf.keras.layers.Dense(units=64, activation=tf.keras.activations.relu))\n",
    "model.add(tf.keras.layers.Dense(units=64, activation=tf.keras.activations.relu))\n",
    "model.add(tf.keras.layers.Dense(units=1,  activation=None))\n",
    "model.add(tf.keras.layers.Activation(tf.keras.activations.sigmoid))"
   ]
  },
  {
   "cell_type": "code",
   "execution_count": 18,
   "metadata": {},
   "outputs": [],
   "source": [
    "optimizer = tf.keras.optimizers.Adam(learning_rate=0.005)\n",
    "# loss = tf.keras.losses.MeanSquaredError()\n",
    "# metrics = [tf.keras.metrics.MeanSquaredError()]\n",
    "loss = tf.keras.losses.BinaryCrossentropy()\n",
    "metrics = [tf.keras.metrics.AUC()]\n",
    "model.compile(optimizer=optimizer,\n",
    "              loss=loss,\n",
    "              metrics=metrics)"
   ]
  },
  {
   "cell_type": "code",
   "execution_count": 19,
   "metadata": {},
   "outputs": [
    {
     "name": "stdout",
     "output_type": "stream",
     "text": [
      "Train on 14318 samples, validate on 3580 samples\n",
      "Epoch 1/10\n",
      "14318/14318 [==============================] - 1s 73us/sample - loss: 0.1359 - auc_3: 0.9517 - val_loss: 0.0671 - val_auc_3: 0.9684\n",
      "Epoch 2/10\n",
      "14318/14318 [==============================] - 0s 17us/sample - loss: 0.0755 - auc_3: 0.9755 - val_loss: 0.0608 - val_auc_3: 0.9776\n",
      "Epoch 3/10\n",
      "14318/14318 [==============================] - 0s 18us/sample - loss: 0.0733 - auc_3: 0.9764 - val_loss: 0.0599 - val_auc_3: 0.9743\n",
      "Epoch 4/10\n",
      "14318/14318 [==============================] - 0s 19us/sample - loss: 0.0697 - auc_3: 0.9783 - val_loss: 0.0592 - val_auc_3: 0.9755\n",
      "Epoch 5/10\n",
      "14318/14318 [==============================] - 0s 18us/sample - loss: 0.0691 - auc_3: 0.9796 - val_loss: 0.0578 - val_auc_3: 0.9778\n",
      "Epoch 6/10\n",
      "14318/14318 [==============================] - 0s 18us/sample - loss: 0.0686 - auc_3: 0.9803 - val_loss: 0.0579 - val_auc_3: 0.9779\n",
      "Epoch 7/10\n",
      "14318/14318 [==============================] - 0s 18us/sample - loss: 0.0683 - auc_3: 0.9798 - val_loss: 0.0624 - val_auc_3: 0.9773\n",
      "Epoch 8/10\n",
      "14318/14318 [==============================] - 0s 18us/sample - loss: 0.0683 - auc_3: 0.9809 - val_loss: 0.0578 - val_auc_3: 0.9771\n",
      "Epoch 9/10\n",
      "14318/14318 [==============================] - 0s 18us/sample - loss: 0.0677 - auc_3: 0.9797 - val_loss: 0.0582 - val_auc_3: 0.9770\n",
      "Epoch 10/10\n",
      "14318/14318 [==============================] - 0s 18us/sample - loss: 0.0677 - auc_3: 0.9809 - val_loss: 0.0582 - val_auc_3: 0.9736\n"
     ]
    },
    {
     "data": {
      "text/plain": [
       "<tensorflow.python.keras.callbacks.History at 0x7f0f5c5c7f10>"
      ]
     },
     "execution_count": 19,
     "metadata": {},
     "output_type": "execute_result"
    }
   ],
   "source": [
    "model.fit(x_train, y_train, batch_size=300, epochs=10, verbose=1, validation_data=(x_test, y_test))"
   ]
  },
  {
   "cell_type": "code",
   "execution_count": 20,
   "metadata": {},
   "outputs": [],
   "source": [
    "pair_model = interaction_model(num_features=x_train.shape[1],\n",
    "                               num_layers=2,\n",
    "                               hidden_layer_size=4,\n",
    "                               num_outputs=1,\n",
    "                               activation_function=tf.keras.activations.relu,\n",
    "                               interactions_to_ignore=None,\n",
    "                               regression=False)"
   ]
  },
  {
   "cell_type": "code",
   "execution_count": 21,
   "metadata": {},
   "outputs": [],
   "source": [
    "optimizer = tf.keras.optimizers.Adam(learning_rate=0.005)\n",
    "# loss = tf.keras.losses.MeanSquaredError()\n",
    "# metrics = [tf.keras.metrics.MeanSquaredError()]\n",
    "loss = tf.keras.losses.BinaryCrossentropy()\n",
    "metrics = [tf.keras.metrics.AUC()]\n",
    "pair_model.compile(optimizer=optimizer,\n",
    "                   loss=loss,\n",
    "                   metrics=metrics)"
   ]
  },
  {
   "cell_type": "code",
   "execution_count": 22,
   "metadata": {},
   "outputs": [
    {
     "name": "stdout",
     "output_type": "stream",
     "text": [
      "Train on 14318 samples, validate on 3580 samples\n",
      "Epoch 1/10\n",
      "14318/14318 [==============================] - 6s 430us/sample - loss: 0.2438 - auc_4: 0.8895 - val_loss: 0.0795 - val_auc_4: 0.9607\n",
      "Epoch 2/10\n",
      "14318/14318 [==============================] - 1s 87us/sample - loss: 0.0879 - auc_4: 0.9684 - val_loss: 0.0709 - val_auc_4: 0.9663\n",
      "Epoch 3/10\n",
      "14318/14318 [==============================] - 1s 94us/sample - loss: 0.0825 - auc_4: 0.9715 - val_loss: 0.0686 - val_auc_4: 0.9684\n",
      "Epoch 4/10\n",
      "14318/14318 [==============================] - 1s 93us/sample - loss: 0.0790 - auc_4: 0.9730 - val_loss: 0.0669 - val_auc_4: 0.9706\n",
      "Epoch 5/10\n",
      "14318/14318 [==============================] - 1s 96us/sample - loss: 0.0766 - auc_4: 0.9735 - val_loss: 0.0655 - val_auc_4: 0.9739\n",
      "Epoch 6/10\n",
      "14318/14318 [==============================] - 1s 91us/sample - loss: 0.0754 - auc_4: 0.9750 - val_loss: 0.0623 - val_auc_4: 0.9719\n",
      "Epoch 7/10\n",
      "14318/14318 [==============================] - 1s 90us/sample - loss: 0.0745 - auc_4: 0.9739 - val_loss: 0.0624 - val_auc_4: 0.9750\n",
      "Epoch 8/10\n",
      "14318/14318 [==============================] - 1s 92us/sample - loss: 0.0730 - auc_4: 0.9753 - val_loss: 0.0604 - val_auc_4: 0.9762\n",
      "Epoch 9/10\n",
      "14318/14318 [==============================] - 1s 95us/sample - loss: 0.0720 - auc_4: 0.9769 - val_loss: 0.0600 - val_auc_4: 0.9724\n",
      "Epoch 10/10\n",
      "14318/14318 [==============================] - 1s 90us/sample - loss: 0.0712 - auc_4: 0.9757 - val_loss: 0.0590 - val_auc_4: 0.9766\n"
     ]
    },
    {
     "data": {
      "text/plain": [
       "<tensorflow.python.keras.callbacks.History at 0x7f0f446c8f10>"
      ]
     },
     "execution_count": 22,
     "metadata": {},
     "output_type": "execute_result"
    }
   ],
   "source": [
    "pair_model.fit(x_train, y_train, batch_size=300, epochs=10, verbose=1, validation_data=(x_test, y_test))"
   ]
  }
 ],
 "metadata": {
  "kernelspec": {
   "display_name": "Python 3",
   "language": "python",
   "name": "python3"
  },
  "language_info": {
   "codemirror_mode": {
    "name": "ipython",
    "version": 3
   },
   "file_extension": ".py",
   "mimetype": "text/x-python",
   "name": "python",
   "nbconvert_exporter": "python",
   "pygments_lexer": "ipython3",
   "version": "3.7.4"
  }
 },
 "nbformat": 4,
 "nbformat_minor": 4
}
