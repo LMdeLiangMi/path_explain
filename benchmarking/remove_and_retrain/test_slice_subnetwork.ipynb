{
 "cells": [
  {
   "cell_type": "code",
   "execution_count": 1,
   "metadata": {},
   "outputs": [],
   "source": [
    "%load_ext autoreload\n",
    "%autoreload 2"
   ]
  },
  {
   "cell_type": "code",
   "execution_count": 2,
   "metadata": {},
   "outputs": [],
   "source": [
    "import sys\n",
    "sys.path.append('..')"
   ]
  },
  {
   "cell_type": "code",
   "execution_count": 3,
   "metadata": {},
   "outputs": [],
   "source": [
    "import tensorflow as tf\n",
    "import numpy as np\n",
    "from build_model import interaction_model"
   ]
  },
  {
   "cell_type": "code",
   "execution_count": 4,
   "metadata": {},
   "outputs": [],
   "source": [
    "from path_explain import utils\n",
    "utils.set_up_environment(visible_devices='1')"
   ]
  },
  {
   "cell_type": "code",
   "execution_count": 5,
   "metadata": {},
   "outputs": [],
   "source": [
    "model = interaction_model(num_features=5,\n",
    "                          num_layers=2,\n",
    "                          hidden_layer_size=8,\n",
    "                          num_outputs=1,\n",
    "                          activation_function=tf.keras.activations.relu,\n",
    "                          interactions_to_ignore=None)"
   ]
  },
  {
   "cell_type": "code",
   "execution_count": 6,
   "metadata": {},
   "outputs": [
    {
     "name": "stdout",
     "output_type": "stream",
     "text": [
      "Model: \"model\"\n",
      "__________________________________________________________________________________________________\n",
      "Layer (type)                    Output Shape         Param #     Connected to                     \n",
      "==================================================================================================\n",
      "input (InputLayer)              [(None, 5)]          0                                            \n",
      "__________________________________________________________________________________________________\n",
      "select_0 (Dense)                (None, 1)            5           input[0][0]                      \n",
      "__________________________________________________________________________________________________\n",
      "select_1 (Dense)                (None, 1)            5           input[0][0]                      \n",
      "__________________________________________________________________________________________________\n",
      "select_2 (Dense)                (None, 1)            5           input[0][0]                      \n",
      "__________________________________________________________________________________________________\n",
      "select_3 (Dense)                (None, 1)            5           input[0][0]                      \n",
      "__________________________________________________________________________________________________\n",
      "select_4 (Dense)                (None, 1)            5           input[0][0]                      \n",
      "__________________________________________________________________________________________________\n",
      "select_0_1 (Dense)              (None, 2)            10          input[0][0]                      \n",
      "__________________________________________________________________________________________________\n",
      "select_0_2 (Dense)              (None, 2)            10          input[0][0]                      \n",
      "__________________________________________________________________________________________________\n",
      "select_0_3 (Dense)              (None, 2)            10          input[0][0]                      \n",
      "__________________________________________________________________________________________________\n",
      "select_0_4 (Dense)              (None, 2)            10          input[0][0]                      \n",
      "__________________________________________________________________________________________________\n",
      "select_1_2 (Dense)              (None, 2)            10          input[0][0]                      \n",
      "__________________________________________________________________________________________________\n",
      "select_1_3 (Dense)              (None, 2)            10          input[0][0]                      \n",
      "__________________________________________________________________________________________________\n",
      "select_1_4 (Dense)              (None, 2)            10          input[0][0]                      \n",
      "__________________________________________________________________________________________________\n",
      "select_2_3 (Dense)              (None, 2)            10          input[0][0]                      \n",
      "__________________________________________________________________________________________________\n",
      "select_2_4 (Dense)              (None, 2)            10          input[0][0]                      \n",
      "__________________________________________________________________________________________________\n",
      "select_3_4 (Dense)              (None, 2)            10          input[0][0]                      \n",
      "__________________________________________________________________________________________________\n",
      "dense_0_0 (Dense)               (None, 8)            16          select_0[0][0]                   \n",
      "__________________________________________________________________________________________________\n",
      "dense_0_1 (Dense)               (None, 8)            16          select_1[0][0]                   \n",
      "__________________________________________________________________________________________________\n",
      "dense_0_2 (Dense)               (None, 8)            16          select_2[0][0]                   \n",
      "__________________________________________________________________________________________________\n",
      "dense_0_3 (Dense)               (None, 8)            16          select_3[0][0]                   \n",
      "__________________________________________________________________________________________________\n",
      "dense_0_4 (Dense)               (None, 8)            16          select_4[0][0]                   \n",
      "__________________________________________________________________________________________________\n",
      "dense_0_0_1 (Dense)             (None, 8)            24          select_0_1[0][0]                 \n",
      "__________________________________________________________________________________________________\n",
      "dense_0_0_2 (Dense)             (None, 8)            24          select_0_2[0][0]                 \n",
      "__________________________________________________________________________________________________\n",
      "dense_0_0_3 (Dense)             (None, 8)            24          select_0_3[0][0]                 \n",
      "__________________________________________________________________________________________________\n",
      "dense_0_0_4 (Dense)             (None, 8)            24          select_0_4[0][0]                 \n",
      "__________________________________________________________________________________________________\n",
      "dense_0_1_2 (Dense)             (None, 8)            24          select_1_2[0][0]                 \n",
      "__________________________________________________________________________________________________\n",
      "dense_0_1_3 (Dense)             (None, 8)            24          select_1_3[0][0]                 \n",
      "__________________________________________________________________________________________________\n",
      "dense_0_1_4 (Dense)             (None, 8)            24          select_1_4[0][0]                 \n",
      "__________________________________________________________________________________________________\n",
      "dense_0_2_3 (Dense)             (None, 8)            24          select_2_3[0][0]                 \n",
      "__________________________________________________________________________________________________\n",
      "dense_0_2_4 (Dense)             (None, 8)            24          select_2_4[0][0]                 \n",
      "__________________________________________________________________________________________________\n",
      "dense_0_3_4 (Dense)             (None, 8)            24          select_3_4[0][0]                 \n",
      "__________________________________________________________________________________________________\n",
      "dense_1_0 (Dense)               (None, 8)            72          dense_0_0[0][0]                  \n",
      "__________________________________________________________________________________________________\n",
      "dense_1_1 (Dense)               (None, 8)            72          dense_0_1[0][0]                  \n",
      "__________________________________________________________________________________________________\n",
      "dense_1_2 (Dense)               (None, 8)            72          dense_0_2[0][0]                  \n",
      "__________________________________________________________________________________________________\n",
      "dense_1_3 (Dense)               (None, 8)            72          dense_0_3[0][0]                  \n",
      "__________________________________________________________________________________________________\n",
      "dense_1_4 (Dense)               (None, 8)            72          dense_0_4[0][0]                  \n",
      "__________________________________________________________________________________________________\n",
      "dense_1_0_1 (Dense)             (None, 8)            72          dense_0_0_1[0][0]                \n",
      "__________________________________________________________________________________________________\n",
      "dense_1_0_2 (Dense)             (None, 8)            72          dense_0_0_2[0][0]                \n",
      "__________________________________________________________________________________________________\n",
      "dense_1_0_3 (Dense)             (None, 8)            72          dense_0_0_3[0][0]                \n",
      "__________________________________________________________________________________________________\n",
      "dense_1_0_4 (Dense)             (None, 8)            72          dense_0_0_4[0][0]                \n",
      "__________________________________________________________________________________________________\n",
      "dense_1_1_2 (Dense)             (None, 8)            72          dense_0_1_2[0][0]                \n",
      "__________________________________________________________________________________________________\n",
      "dense_1_1_3 (Dense)             (None, 8)            72          dense_0_1_3[0][0]                \n",
      "__________________________________________________________________________________________________\n",
      "dense_1_1_4 (Dense)             (None, 8)            72          dense_0_1_4[0][0]                \n",
      "__________________________________________________________________________________________________\n",
      "dense_1_2_3 (Dense)             (None, 8)            72          dense_0_2_3[0][0]                \n",
      "__________________________________________________________________________________________________\n",
      "dense_1_2_4 (Dense)             (None, 8)            72          dense_0_2_4[0][0]                \n",
      "__________________________________________________________________________________________________\n",
      "dense_1_3_4 (Dense)             (None, 8)            72          dense_0_3_4[0][0]                \n",
      "__________________________________________________________________________________________________\n",
      "output_0 (Dense)                (None, 1)            9           dense_1_0[0][0]                  \n",
      "__________________________________________________________________________________________________\n",
      "output_1 (Dense)                (None, 1)            9           dense_1_1[0][0]                  \n",
      "__________________________________________________________________________________________________\n",
      "output_2 (Dense)                (None, 1)            9           dense_1_2[0][0]                  \n",
      "__________________________________________________________________________________________________\n",
      "output_3 (Dense)                (None, 1)            9           dense_1_3[0][0]                  \n",
      "__________________________________________________________________________________________________\n",
      "output_4 (Dense)                (None, 1)            9           dense_1_4[0][0]                  \n",
      "__________________________________________________________________________________________________\n",
      "output_0_1 (Dense)              (None, 1)            9           dense_1_0_1[0][0]                \n",
      "__________________________________________________________________________________________________\n",
      "output_0_2 (Dense)              (None, 1)            9           dense_1_0_2[0][0]                \n",
      "__________________________________________________________________________________________________\n",
      "output_0_3 (Dense)              (None, 1)            9           dense_1_0_3[0][0]                \n",
      "__________________________________________________________________________________________________\n",
      "output_0_4 (Dense)              (None, 1)            9           dense_1_0_4[0][0]                \n",
      "__________________________________________________________________________________________________\n",
      "output_1_2 (Dense)              (None, 1)            9           dense_1_1_2[0][0]                \n",
      "__________________________________________________________________________________________________\n",
      "output_1_3 (Dense)              (None, 1)            9           dense_1_1_3[0][0]                \n",
      "__________________________________________________________________________________________________\n",
      "output_1_4 (Dense)              (None, 1)            9           dense_1_1_4[0][0]                \n",
      "__________________________________________________________________________________________________\n",
      "output_2_3 (Dense)              (None, 1)            9           dense_1_2_3[0][0]                \n",
      "__________________________________________________________________________________________________\n",
      "output_2_4 (Dense)              (None, 1)            9           dense_1_2_4[0][0]                \n",
      "__________________________________________________________________________________________________\n",
      "output_3_4 (Dense)              (None, 1)            9           dense_1_3_4[0][0]                \n",
      "__________________________________________________________________________________________________\n",
      "concat (Concatenate)            (None, 15)           0           output_0[0][0]                   \n",
      "                                                                 output_1[0][0]                   \n",
      "                                                                 output_2[0][0]                   \n",
      "                                                                 output_3[0][0]                   \n",
      "                                                                 output_4[0][0]                   \n",
      "                                                                 output_0_1[0][0]                 \n",
      "                                                                 output_0_2[0][0]                 \n",
      "                                                                 output_0_3[0][0]                 \n",
      "                                                                 output_0_4[0][0]                 \n",
      "                                                                 output_1_2[0][0]                 \n",
      "                                                                 output_1_3[0][0]                 \n",
      "                                                                 output_1_4[0][0]                 \n",
      "                                                                 output_2_3[0][0]                 \n",
      "                                                                 output_2_4[0][0]                 \n",
      "                                                                 output_3_4[0][0]                 \n",
      "__________________________________________________________________________________________________\n",
      "output_final (Dense)            (None, 1)            15          concat[0][0]                     \n",
      "__________________________________________________________________________________________________\n",
      "activation (Activation)         (None, 1)            0           output_final[0][0]               \n",
      "==================================================================================================\n",
      "Total params: 1,675\n",
      "Trainable params: 1,550\n",
      "Non-trainable params: 125\n",
      "__________________________________________________________________________________________________\n"
     ]
    }
   ],
   "source": [
    "model.summary()"
   ]
  },
  {
   "cell_type": "code",
   "execution_count": 7,
   "metadata": {},
   "outputs": [
    {
     "data": {
      "text/plain": [
       "'relu'"
      ]
     },
     "execution_count": 7,
     "metadata": {},
     "output_type": "execute_result"
    }
   ],
   "source": [
    "model.layers[20].get_config().get('activation', None)"
   ]
  },
  {
   "cell_type": "code",
   "execution_count": 8,
   "metadata": {},
   "outputs": [
    {
     "name": "stdout",
     "output_type": "stream",
     "text": [
      "dense_0_0\n",
      "dense_0_1\n",
      "dense_0_2\n",
      "dense_0_3\n",
      "dense_0_4\n",
      "dense_0_0_1\n",
      "dense_0_0_2\n",
      "dense_0_0_3\n",
      "dense_0_0_4\n",
      "dense_0_1_2\n",
      "dense_0_1_3\n",
      "dense_0_1_4\n",
      "dense_0_2_3\n",
      "dense_0_2_4\n",
      "dense_0_3_4\n",
      "dense_1_0\n",
      "dense_1_1\n",
      "dense_1_2\n",
      "dense_1_3\n",
      "dense_1_4\n",
      "dense_1_0_1\n",
      "dense_1_0_2\n",
      "dense_1_0_3\n",
      "dense_1_0_4\n",
      "dense_1_1_2\n",
      "dense_1_1_3\n",
      "dense_1_1_4\n",
      "dense_1_2_3\n",
      "dense_1_2_4\n",
      "dense_1_3_4\n"
     ]
    }
   ],
   "source": [
    "for layer in model.layers:\n",
    "    if layer.get_config().get('activation', None) == 'relu':\n",
    "        print(layer.name)"
   ]
  },
  {
   "cell_type": "code",
   "execution_count": 9,
   "metadata": {},
   "outputs": [
    {
     "data": {
      "text/plain": [
       "True"
      ]
     },
     "execution_count": 9,
     "metadata": {},
     "output_type": "execute_result"
    }
   ],
   "source": [
    "model.layers[0].trainable"
   ]
  },
  {
   "cell_type": "code",
   "execution_count": 10,
   "metadata": {},
   "outputs": [],
   "source": [
    "input_tensor = model.get_layer('select_0_1').input\n",
    "subnetwork = tf.keras.models.Model(inputs=input_tensor,\n",
    "                                   outputs=model.get_layer('output_0_1').output)\n",
    "output_tensor = input_tensor\n",
    "for layer in subnetwork.layers[1:]:\n",
    "    output_tensor = layer(output_tensor)\n",
    "\n",
    "weight_multiply_index = [layer.name.split('/')[0] for layer in model.get_layer('concat').input].index('output_0_1')\n",
    "final_weighting = model.get_layer('output_final').weights[0][weight_multiply_index, :]\n",
    "final_weighting = tf.expand_dims(final_weighting, axis=0)\n",
    "final_weighting = tf.expand_dims(final_weighting, axis=0)\n",
    "\n",
    "output_tensor = tf.keras.layers.Dense(units=1,\n",
    "                                      activation=None,\n",
    "                                      use_bias=False,\n",
    "                                      weights=final_weighting.numpy(),\n",
    "                                      trainable=False,\n",
    "                                      name='subnetwork_output_final')(output_tensor)\n",
    "subnetwork = tf.keras.models.Model(inputs=input_tensor,\n",
    "                                   outputs=output_tensor)"
   ]
  },
  {
   "cell_type": "code",
   "execution_count": 11,
   "metadata": {},
   "outputs": [
    {
     "data": {
      "text/plain": [
       "<tf.Tensor 'input:0' shape=(None, 5) dtype=float32>"
      ]
     },
     "execution_count": 11,
     "metadata": {},
     "output_type": "execute_result"
    }
   ],
   "source": [
    "model.get_layer('select_0_1').input"
   ]
  },
  {
   "cell_type": "code",
   "execution_count": 12,
   "metadata": {},
   "outputs": [
    {
     "data": {
      "text/plain": [
       "<function tensorflow.python.keras.engine.input_layer.Input(shape=None, batch_size=None, name=None, dtype=None, sparse=False, tensor=None, ragged=False, **kwargs)>"
      ]
     },
     "execution_count": 12,
     "metadata": {},
     "output_type": "execute_result"
    }
   ],
   "source": [
    "tf.keras.layers.Input"
   ]
  },
  {
   "cell_type": "code",
   "execution_count": 13,
   "metadata": {},
   "outputs": [
    {
     "name": "stdout",
     "output_type": "stream",
     "text": [
      "Model: \"model_2\"\n",
      "_________________________________________________________________\n",
      "Layer (type)                 Output Shape              Param #   \n",
      "=================================================================\n",
      "input (InputLayer)           [(None, 5)]               0         \n",
      "_________________________________________________________________\n",
      "select_0_1 (Dense)           (None, 2)                 10        \n",
      "_________________________________________________________________\n",
      "dense_0_0_1 (Dense)          (None, 8)                 24        \n",
      "_________________________________________________________________\n",
      "dense_1_0_1 (Dense)          (None, 8)                 72        \n",
      "_________________________________________________________________\n",
      "output_0_1 (Dense)           (None, 1)                 9         \n",
      "_________________________________________________________________\n",
      "subnetwork_output_final (Den (None, 1)                 1         \n",
      "=================================================================\n",
      "Total params: 116\n",
      "Trainable params: 105\n",
      "Non-trainable params: 11\n",
      "_________________________________________________________________\n"
     ]
    }
   ],
   "source": [
    "subnetwork.summary()"
   ]
  },
  {
   "cell_type": "code",
   "execution_count": 14,
   "metadata": {},
   "outputs": [
    {
     "data": {
      "text/plain": [
       "<tensorflow.python.keras.engine.input_layer.InputLayer at 0x7f9109cebbd0>"
      ]
     },
     "execution_count": 14,
     "metadata": {},
     "output_type": "execute_result"
    }
   ],
   "source": [
    "subnetwork.layers[0]"
   ]
  },
  {
   "cell_type": "code",
   "execution_count": 15,
   "metadata": {},
   "outputs": [],
   "source": [
    "fixed_values = np.random.randn(10, 5).astype(np.float32)"
   ]
  },
  {
   "cell_type": "code",
   "execution_count": 16,
   "metadata": {},
   "outputs": [
    {
     "data": {
      "text/plain": [
       "<tf.Tensor: shape=(10, 1), dtype=float32, numpy=\n",
       "array([[0.        ],\n",
       "       [0.07608242],\n",
       "       [0.7607951 ],\n",
       "       [0.16543923],\n",
       "       [0.        ],\n",
       "       [0.4151308 ],\n",
       "       [0.        ],\n",
       "       [0.27902663],\n",
       "       [0.66558653],\n",
       "       [0.23474546]], dtype=float32)>"
      ]
     },
     "execution_count": 16,
     "metadata": {},
     "output_type": "execute_result"
    }
   ],
   "source": [
    "subnetwork(fixed_values)"
   ]
  },
  {
   "cell_type": "code",
   "execution_count": 17,
   "metadata": {},
   "outputs": [],
   "source": [
    "test_model = tf.keras.models.Model(inputs=model.input, outputs=model.get_layer('output_0_1').output)"
   ]
  },
  {
   "cell_type": "code",
   "execution_count": 18,
   "metadata": {},
   "outputs": [
    {
     "data": {
      "text/plain": [
       "<tf.Tensor: shape=(1, 10, 1), dtype=float32, numpy=\n",
       "array([[[0.        ],\n",
       "        [0.07608242],\n",
       "        [0.7607951 ],\n",
       "        [0.16543923],\n",
       "        [0.        ],\n",
       "        [0.4151308 ],\n",
       "        [0.        ],\n",
       "        [0.27902663],\n",
       "        [0.66558653],\n",
       "        [0.23474546]]], dtype=float32)>"
      ]
     },
     "execution_count": 18,
     "metadata": {},
     "output_type": "execute_result"
    }
   ],
   "source": [
    "test_model(fixed_values) * final_weighting"
   ]
  },
  {
   "cell_type": "code",
   "execution_count": 19,
   "metadata": {},
   "outputs": [],
   "source": [
    "from neural_interaction_detection import NeuralInteractionDetectionExplainerTF"
   ]
  },
  {
   "cell_type": "code",
   "execution_count": 20,
   "metadata": {},
   "outputs": [],
   "source": [
    "from contextual_decomposition import ContextualDecompositionExplainerTF"
   ]
  },
  {
   "cell_type": "code",
   "execution_count": 21,
   "metadata": {},
   "outputs": [],
   "source": [
    "nid_explainer = NeuralInteractionDetectionExplainerTF(subnetwork)"
   ]
  },
  {
   "cell_type": "code",
   "execution_count": 22,
   "metadata": {},
   "outputs": [],
   "source": [
    "interactions = nid_explainer.interactions()"
   ]
  },
  {
   "cell_type": "code",
   "execution_count": 23,
   "metadata": {},
   "outputs": [
    {
     "data": {
      "text/plain": [
       "array([[0.        , 1.74311638],\n",
       "       [1.74311638, 0.        ]])"
      ]
     },
     "execution_count": 23,
     "metadata": {},
     "output_type": "execute_result"
    }
   ],
   "source": [
    "interactions"
   ]
  },
  {
   "cell_type": "code",
   "execution_count": 24,
   "metadata": {},
   "outputs": [],
   "source": [
    "cd_explainer = ContextualDecompositionExplainerTF(subnetwork)"
   ]
  },
  {
   "cell_type": "code",
   "execution_count": 25,
   "metadata": {},
   "outputs": [],
   "source": [
    "attributions, _ = cd_explainer.attributions(fixed_values, 10)"
   ]
  },
  {
   "cell_type": "code",
   "execution_count": 26,
   "metadata": {},
   "outputs": [],
   "source": [
    "interactions, _ = cd_explainer.interactions(fixed_values, 10)\n",
    "interactions = interactions - attributions[:, np.newaxis, :] - attributions[:, :, np.newaxis]"
   ]
  },
  {
   "cell_type": "code",
   "execution_count": 27,
   "metadata": {},
   "outputs": [
    {
     "data": {
      "text/plain": [
       "array([[-0.04032952, -0.03299661,  0.        ,  0.        ,  0.        ],\n",
       "       [-0.03299661, -0.02566369,  0.        ,  0.        ,  0.        ],\n",
       "       [ 0.        ,  0.        ,  0.        ,  0.        ,  0.        ],\n",
       "       [ 0.        ,  0.        ,  0.        ,  0.        ,  0.        ],\n",
       "       [ 0.        ,  0.        ,  0.        ,  0.        ,  0.        ]])"
      ]
     },
     "execution_count": 27,
     "metadata": {},
     "output_type": "execute_result"
    }
   ],
   "source": [
    "interactions[0]"
   ]
  }
 ],
 "metadata": {
  "kernelspec": {
   "display_name": "Python 3",
   "language": "python",
   "name": "python3"
  },
  "language_info": {
   "codemirror_mode": {
    "name": "ipython",
    "version": 3
   },
   "file_extension": ".py",
   "mimetype": "text/x-python",
   "name": "python",
   "nbconvert_exporter": "python",
   "pygments_lexer": "ipython3",
   "version": "3.7.4"
  }
 },
 "nbformat": 4,
 "nbformat_minor": 4
}
