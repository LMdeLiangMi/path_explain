{
 "cells": [
  {
   "cell_type": "code",
   "execution_count": 1,
   "metadata": {},
   "outputs": [],
   "source": [
    "%load_ext autoreload\n",
    "%autoreload 2"
   ]
  },
  {
   "cell_type": "code",
   "execution_count": 2,
   "metadata": {},
   "outputs": [],
   "source": [
    "import sys\n",
    "sys.path.append('..')"
   ]
  },
  {
   "cell_type": "code",
   "execution_count": 3,
   "metadata": {},
   "outputs": [],
   "source": [
    "import tensorflow as tf\n",
    "import numpy as np\n",
    "from build_model import interaction_model, SelectInputs"
   ]
  },
  {
   "cell_type": "code",
   "execution_count": 4,
   "metadata": {},
   "outputs": [],
   "source": [
    "from path_explain import utils\n",
    "utils.set_up_environment(visible_devices='1')"
   ]
  },
  {
   "cell_type": "code",
   "execution_count": 5,
   "metadata": {},
   "outputs": [],
   "source": [
    "model = interaction_model(num_features=5,\n",
    "                          num_layers=2,\n",
    "                          hidden_layer_size=8,\n",
    "                          num_outputs=1,\n",
    "                          activation_function=tf.keras.activations.relu,\n",
    "                          interactions_to_ignore=None)"
   ]
  },
  {
   "cell_type": "code",
   "execution_count": 6,
   "metadata": {},
   "outputs": [
    {
     "data": {
      "text/plain": [
       "'relu'"
      ]
     },
     "execution_count": 6,
     "metadata": {},
     "output_type": "execute_result"
    }
   ],
   "source": [
    "model.layers[20].get_config().get('activation', None)"
   ]
  },
  {
   "cell_type": "code",
   "execution_count": 7,
   "metadata": {},
   "outputs": [
    {
     "name": "stdout",
     "output_type": "stream",
     "text": [
      "<tensorflow.python.keras.layers.core.Dense object at 0x7efd45b5fbd0>\n",
      "<tensorflow.python.keras.layers.core.Dense object at 0x7efd3004e610>\n",
      "<tensorflow.python.keras.layers.core.Dense object at 0x7efd3003f350>\n",
      "<tensorflow.python.keras.layers.core.Dense object at 0x7efcec0b5a90>\n",
      "<tensorflow.python.keras.layers.core.Dense object at 0x7efcec04d110>\n",
      "<tensorflow.python.keras.layers.core.Dense object at 0x7efcec06c750>\n",
      "<tensorflow.python.keras.layers.core.Dense object at 0x7efcd45c1590>\n",
      "<tensorflow.python.keras.layers.core.Dense object at 0x7efcd45dc110>\n",
      "<tensorflow.python.keras.layers.core.Dense object at 0x7efcd45f6510>\n",
      "<tensorflow.python.keras.layers.core.Dense object at 0x7efcd4592dd0>\n",
      "<tensorflow.python.keras.layers.core.Dense object at 0x7efcd45ab110>\n",
      "<tensorflow.python.keras.layers.core.Dense object at 0x7efcd4546e10>\n",
      "<tensorflow.python.keras.layers.core.Dense object at 0x7efcd4560950>\n",
      "<tensorflow.python.keras.layers.core.Dense object at 0x7efcd44fca10>\n",
      "<tensorflow.python.keras.layers.core.Dense object at 0x7efcd4519a90>\n",
      "<tensorflow.python.keras.layers.core.Dense object at 0x7efd45656990>\n",
      "<tensorflow.python.keras.layers.core.Dense object at 0x7efd30067c50>\n",
      "<tensorflow.python.keras.layers.core.Dense object at 0x7efcec0a1e90>\n",
      "<tensorflow.python.keras.layers.core.Dense object at 0x7efcec039f90>\n",
      "<tensorflow.python.keras.layers.core.Dense object at 0x7efcec05a7d0>\n",
      "<tensorflow.python.keras.layers.core.Dense object at 0x7efcec072b90>\n",
      "<tensorflow.python.keras.layers.core.Dense object at 0x7efcd45cdcd0>\n",
      "<tensorflow.python.keras.layers.core.Dense object at 0x7efcd45e9ad0>\n",
      "<tensorflow.python.keras.layers.core.Dense object at 0x7efd3004e790>\n",
      "<tensorflow.python.keras.layers.core.Dense object at 0x7efcd459f4d0>\n",
      "<tensorflow.python.keras.layers.core.Dense object at 0x7efcd45b4f10>\n",
      "<tensorflow.python.keras.layers.core.Dense object at 0x7efd3005a1d0>\n",
      "<tensorflow.python.keras.layers.core.Dense object at 0x7efcd4568e90>\n",
      "<tensorflow.python.keras.layers.core.Dense object at 0x7efcd4503fd0>\n",
      "<tensorflow.python.keras.layers.core.Dense object at 0x7efcd451dd50>\n"
     ]
    }
   ],
   "source": [
    "for layer in model.layers:\n",
    "    if layer.get_config().get('activation', None) == 'relu':\n",
    "        print(layer)"
   ]
  },
  {
   "cell_type": "code",
   "execution_count": 8,
   "metadata": {},
   "outputs": [
    {
     "name": "stdout",
     "output_type": "stream",
     "text": [
      "Model: \"model\"\n",
      "__________________________________________________________________________________________________\n",
      "Layer (type)                    Output Shape         Param #     Connected to                     \n",
      "==================================================================================================\n",
      "input (InputLayer)              [(None, 5)]          0                                            \n",
      "__________________________________________________________________________________________________\n",
      "select_0 (SelectInputs)         (None, 1)            5           input[0][0]                      \n",
      "__________________________________________________________________________________________________\n",
      "select_1 (SelectInputs)         (None, 1)            5           input[0][0]                      \n",
      "__________________________________________________________________________________________________\n",
      "select_2 (SelectInputs)         (None, 1)            5           input[0][0]                      \n",
      "__________________________________________________________________________________________________\n",
      "select_3 (SelectInputs)         (None, 1)            5           input[0][0]                      \n",
      "__________________________________________________________________________________________________\n",
      "select_4 (SelectInputs)         (None, 1)            5           input[0][0]                      \n",
      "__________________________________________________________________________________________________\n",
      "select_0_1 (SelectInputs)       (None, 2)            10          input[0][0]                      \n",
      "__________________________________________________________________________________________________\n",
      "select_0_2 (SelectInputs)       (None, 2)            10          input[0][0]                      \n",
      "__________________________________________________________________________________________________\n",
      "select_0_3 (SelectInputs)       (None, 2)            10          input[0][0]                      \n",
      "__________________________________________________________________________________________________\n",
      "select_0_4 (SelectInputs)       (None, 2)            10          input[0][0]                      \n",
      "__________________________________________________________________________________________________\n",
      "select_1_2 (SelectInputs)       (None, 2)            10          input[0][0]                      \n",
      "__________________________________________________________________________________________________\n",
      "select_1_3 (SelectInputs)       (None, 2)            10          input[0][0]                      \n",
      "__________________________________________________________________________________________________\n",
      "select_1_4 (SelectInputs)       (None, 2)            10          input[0][0]                      \n",
      "__________________________________________________________________________________________________\n",
      "select_2_3 (SelectInputs)       (None, 2)            10          input[0][0]                      \n",
      "__________________________________________________________________________________________________\n",
      "select_2_4 (SelectInputs)       (None, 2)            10          input[0][0]                      \n",
      "__________________________________________________________________________________________________\n",
      "select_3_4 (SelectInputs)       (None, 2)            10          input[0][0]                      \n",
      "__________________________________________________________________________________________________\n",
      "dense_0_0 (Dense)               (None, 8)            16          select_0[0][0]                   \n",
      "__________________________________________________________________________________________________\n",
      "dense_0_1 (Dense)               (None, 8)            16          select_1[0][0]                   \n",
      "__________________________________________________________________________________________________\n",
      "dense_0_2 (Dense)               (None, 8)            16          select_2[0][0]                   \n",
      "__________________________________________________________________________________________________\n",
      "dense_0_3 (Dense)               (None, 8)            16          select_3[0][0]                   \n",
      "__________________________________________________________________________________________________\n",
      "dense_0_4 (Dense)               (None, 8)            16          select_4[0][0]                   \n",
      "__________________________________________________________________________________________________\n",
      "dense_0_0_1 (Dense)             (None, 8)            24          select_0_1[0][0]                 \n",
      "__________________________________________________________________________________________________\n",
      "dense_0_0_2 (Dense)             (None, 8)            24          select_0_2[0][0]                 \n",
      "__________________________________________________________________________________________________\n",
      "dense_0_0_3 (Dense)             (None, 8)            24          select_0_3[0][0]                 \n",
      "__________________________________________________________________________________________________\n",
      "dense_0_0_4 (Dense)             (None, 8)            24          select_0_4[0][0]                 \n",
      "__________________________________________________________________________________________________\n",
      "dense_0_1_2 (Dense)             (None, 8)            24          select_1_2[0][0]                 \n",
      "__________________________________________________________________________________________________\n",
      "dense_0_1_3 (Dense)             (None, 8)            24          select_1_3[0][0]                 \n",
      "__________________________________________________________________________________________________\n",
      "dense_0_1_4 (Dense)             (None, 8)            24          select_1_4[0][0]                 \n",
      "__________________________________________________________________________________________________\n",
      "dense_0_2_3 (Dense)             (None, 8)            24          select_2_3[0][0]                 \n",
      "__________________________________________________________________________________________________\n",
      "dense_0_2_4 (Dense)             (None, 8)            24          select_2_4[0][0]                 \n",
      "__________________________________________________________________________________________________\n",
      "dense_0_3_4 (Dense)             (None, 8)            24          select_3_4[0][0]                 \n",
      "__________________________________________________________________________________________________\n",
      "dense_1_0 (Dense)               (None, 8)            72          dense_0_0[0][0]                  \n",
      "__________________________________________________________________________________________________\n",
      "dense_1_1 (Dense)               (None, 8)            72          dense_0_1[0][0]                  \n",
      "__________________________________________________________________________________________________\n",
      "dense_1_2 (Dense)               (None, 8)            72          dense_0_2[0][0]                  \n",
      "__________________________________________________________________________________________________\n",
      "dense_1_3 (Dense)               (None, 8)            72          dense_0_3[0][0]                  \n",
      "__________________________________________________________________________________________________\n",
      "dense_1_4 (Dense)               (None, 8)            72          dense_0_4[0][0]                  \n",
      "__________________________________________________________________________________________________\n",
      "dense_1_0_1 (Dense)             (None, 8)            72          dense_0_0_1[0][0]                \n",
      "__________________________________________________________________________________________________\n",
      "dense_1_0_2 (Dense)             (None, 8)            72          dense_0_0_2[0][0]                \n",
      "__________________________________________________________________________________________________\n",
      "dense_1_0_3 (Dense)             (None, 8)            72          dense_0_0_3[0][0]                \n",
      "__________________________________________________________________________________________________\n",
      "dense_1_0_4 (Dense)             (None, 8)            72          dense_0_0_4[0][0]                \n",
      "__________________________________________________________________________________________________\n",
      "dense_1_1_2 (Dense)             (None, 8)            72          dense_0_1_2[0][0]                \n",
      "__________________________________________________________________________________________________\n",
      "dense_1_1_3 (Dense)             (None, 8)            72          dense_0_1_3[0][0]                \n",
      "__________________________________________________________________________________________________\n",
      "dense_1_1_4 (Dense)             (None, 8)            72          dense_0_1_4[0][0]                \n",
      "__________________________________________________________________________________________________\n",
      "dense_1_2_3 (Dense)             (None, 8)            72          dense_0_2_3[0][0]                \n",
      "__________________________________________________________________________________________________\n",
      "dense_1_2_4 (Dense)             (None, 8)            72          dense_0_2_4[0][0]                \n",
      "__________________________________________________________________________________________________\n",
      "dense_1_3_4 (Dense)             (None, 8)            72          dense_0_3_4[0][0]                \n",
      "__________________________________________________________________________________________________\n",
      "output_0 (Dense)                (None, 1)            9           dense_1_0[0][0]                  \n",
      "__________________________________________________________________________________________________\n",
      "output_1 (Dense)                (None, 1)            9           dense_1_1[0][0]                  \n",
      "__________________________________________________________________________________________________\n",
      "output_2 (Dense)                (None, 1)            9           dense_1_2[0][0]                  \n",
      "__________________________________________________________________________________________________\n",
      "output_3 (Dense)                (None, 1)            9           dense_1_3[0][0]                  \n",
      "__________________________________________________________________________________________________\n",
      "output_4 (Dense)                (None, 1)            9           dense_1_4[0][0]                  \n",
      "__________________________________________________________________________________________________\n",
      "output_0_1 (Dense)              (None, 1)            9           dense_1_0_1[0][0]                \n",
      "__________________________________________________________________________________________________\n",
      "output_0_2 (Dense)              (None, 1)            9           dense_1_0_2[0][0]                \n",
      "__________________________________________________________________________________________________\n",
      "output_0_3 (Dense)              (None, 1)            9           dense_1_0_3[0][0]                \n",
      "__________________________________________________________________________________________________\n",
      "output_0_4 (Dense)              (None, 1)            9           dense_1_0_4[0][0]                \n",
      "__________________________________________________________________________________________________\n",
      "output_1_2 (Dense)              (None, 1)            9           dense_1_1_2[0][0]                \n",
      "__________________________________________________________________________________________________\n",
      "output_1_3 (Dense)              (None, 1)            9           dense_1_1_3[0][0]                \n",
      "__________________________________________________________________________________________________\n",
      "output_1_4 (Dense)              (None, 1)            9           dense_1_1_4[0][0]                \n",
      "__________________________________________________________________________________________________\n",
      "output_2_3 (Dense)              (None, 1)            9           dense_1_2_3[0][0]                \n",
      "__________________________________________________________________________________________________\n",
      "output_2_4 (Dense)              (None, 1)            9           dense_1_2_4[0][0]                \n",
      "__________________________________________________________________________________________________\n",
      "output_3_4 (Dense)              (None, 1)            9           dense_1_3_4[0][0]                \n",
      "__________________________________________________________________________________________________\n",
      "concat (Concatenate)            (None, 15)           0           output_0[0][0]                   \n",
      "                                                                 output_1[0][0]                   \n",
      "                                                                 output_2[0][0]                   \n",
      "                                                                 output_3[0][0]                   \n",
      "                                                                 output_4[0][0]                   \n",
      "                                                                 output_0_1[0][0]                 \n",
      "                                                                 output_0_2[0][0]                 \n",
      "                                                                 output_0_3[0][0]                 \n",
      "                                                                 output_0_4[0][0]                 \n",
      "                                                                 output_1_2[0][0]                 \n",
      "                                                                 output_1_3[0][0]                 \n",
      "                                                                 output_1_4[0][0]                 \n",
      "                                                                 output_2_3[0][0]                 \n",
      "                                                                 output_2_4[0][0]                 \n",
      "                                                                 output_3_4[0][0]                 \n",
      "__________________________________________________________________________________________________\n",
      "output_final (Dense)            (None, 1)            15          concat[0][0]                     \n",
      "__________________________________________________________________________________________________\n",
      "activation (Activation)         (None, 1)            0           output_final[0][0]               \n",
      "==================================================================================================\n",
      "Total params: 1,675\n",
      "Trainable params: 1,550\n",
      "Non-trainable params: 125\n",
      "__________________________________________________________________________________________________\n"
     ]
    }
   ],
   "source": [
    "model.summary()"
   ]
  },
  {
   "cell_type": "code",
   "execution_count": 9,
   "metadata": {},
   "outputs": [],
   "source": [
    "input_tensor = model.get_layer('select_0_1').input\n",
    "subnetwork = tf.keras.models.Model(inputs=input_tensor,\n",
    "                                   outputs=model.get_layer('output_0_1').output)\n",
    "output_tensor = input_tensor\n",
    "for layer in subnetwork.layers[1:]:\n",
    "    output_tensor = layer(output_tensor)\n",
    "\n",
    "weight_multiply_index = [layer.name.split('/')[0] for layer in model.get_layer('concat').input].index('output_0_1')\n",
    "final_weighting = model.get_layer('output_final').weights[0][weight_multiply_index, :]\n",
    "final_weighting = tf.expand_dims(final_weighting, axis=0)\n",
    "final_weighting = tf.expand_dims(final_weighting, axis=0)\n",
    "\n",
    "output_tensor = tf.keras.layers.Dense(units=1,\n",
    "                                      activation=None,\n",
    "                                      use_bias=False,\n",
    "                                      weights=final_weighting.numpy(),\n",
    "                                      trainable=False,\n",
    "                                      name='subnetwork_output_final')(output_tensor)\n",
    "subnetwork = tf.keras.models.Model(inputs=input_tensor,\n",
    "                                   outputs=output_tensor)"
   ]
  },
  {
   "cell_type": "code",
   "execution_count": 10,
   "metadata": {},
   "outputs": [
    {
     "data": {
      "text/plain": [
       "<tf.Tensor 'input:0' shape=(None, 5) dtype=float32>"
      ]
     },
     "execution_count": 10,
     "metadata": {},
     "output_type": "execute_result"
    }
   ],
   "source": [
    "model.get_layer('select_0_1').input"
   ]
  },
  {
   "cell_type": "code",
   "execution_count": 11,
   "metadata": {},
   "outputs": [
    {
     "data": {
      "text/plain": [
       "<function tensorflow.python.keras.engine.input_layer.Input(shape=None, batch_size=None, name=None, dtype=None, sparse=False, tensor=None, ragged=False, **kwargs)>"
      ]
     },
     "execution_count": 11,
     "metadata": {},
     "output_type": "execute_result"
    }
   ],
   "source": [
    "tf.keras.layers.Input"
   ]
  },
  {
   "cell_type": "code",
   "execution_count": 12,
   "metadata": {},
   "outputs": [
    {
     "name": "stdout",
     "output_type": "stream",
     "text": [
      "Model: \"model_2\"\n",
      "_________________________________________________________________\n",
      "Layer (type)                 Output Shape              Param #   \n",
      "=================================================================\n",
      "input (InputLayer)           [(None, 5)]               0         \n",
      "_________________________________________________________________\n",
      "select_0_1 (SelectInputs)    (None, 2)                 10        \n",
      "_________________________________________________________________\n",
      "dense_0_0_1 (Dense)          (None, 8)                 24        \n",
      "_________________________________________________________________\n",
      "dense_1_0_1 (Dense)          (None, 8)                 72        \n",
      "_________________________________________________________________\n",
      "output_0_1 (Dense)           (None, 1)                 9         \n",
      "_________________________________________________________________\n",
      "subnetwork_output_final (Den (None, 1)                 1         \n",
      "=================================================================\n",
      "Total params: 116\n",
      "Trainable params: 105\n",
      "Non-trainable params: 11\n",
      "_________________________________________________________________\n"
     ]
    }
   ],
   "source": [
    "subnetwork.summary()"
   ]
  },
  {
   "cell_type": "code",
   "execution_count": 13,
   "metadata": {},
   "outputs": [
    {
     "data": {
      "text/plain": [
       "<tensorflow.python.keras.engine.input_layer.InputLayer at 0x7efd45626090>"
      ]
     },
     "execution_count": 13,
     "metadata": {},
     "output_type": "execute_result"
    }
   ],
   "source": [
    "subnetwork.layers[0]"
   ]
  },
  {
   "cell_type": "code",
   "execution_count": 14,
   "metadata": {},
   "outputs": [],
   "source": [
    "fixed_values = np.random.randn(10, 5).astype(np.float32)"
   ]
  },
  {
   "cell_type": "code",
   "execution_count": 15,
   "metadata": {},
   "outputs": [
    {
     "data": {
      "text/plain": [
       "<tf.Tensor: shape=(10, 1), dtype=float32, numpy=\n",
       "array([[-0.02686454],\n",
       "       [-0.06490623],\n",
       "       [ 0.08229259],\n",
       "       [ 0.01626243],\n",
       "       [-0.04495191],\n",
       "       [ 0.0800527 ],\n",
       "       [ 0.02393124],\n",
       "       [-0.13535072],\n",
       "       [-0.0110657 ],\n",
       "       [ 0.0556884 ]], dtype=float32)>"
      ]
     },
     "execution_count": 15,
     "metadata": {},
     "output_type": "execute_result"
    }
   ],
   "source": [
    "subnetwork(fixed_values)"
   ]
  },
  {
   "cell_type": "code",
   "execution_count": 16,
   "metadata": {},
   "outputs": [],
   "source": [
    "test_model = tf.keras.models.Model(inputs=model.input, outputs=model.get_layer('output_0_1').output)"
   ]
  },
  {
   "cell_type": "code",
   "execution_count": 17,
   "metadata": {},
   "outputs": [
    {
     "data": {
      "text/plain": [
       "<tf.Tensor: shape=(1, 10, 1), dtype=float32, numpy=\n",
       "array([[[-0.02686454],\n",
       "        [-0.06490623],\n",
       "        [ 0.08229259],\n",
       "        [ 0.01626243],\n",
       "        [-0.04495191],\n",
       "        [ 0.0800527 ],\n",
       "        [ 0.02393124],\n",
       "        [-0.13535072],\n",
       "        [-0.0110657 ],\n",
       "        [ 0.0556884 ]]], dtype=float32)>"
      ]
     },
     "execution_count": 17,
     "metadata": {},
     "output_type": "execute_result"
    }
   ],
   "source": [
    "test_model(fixed_values) * final_weighting"
   ]
  },
  {
   "cell_type": "code",
   "execution_count": 18,
   "metadata": {},
   "outputs": [],
   "source": [
    "from neural_interaction_detection import NeuralInteractionDetectionExplainerTF"
   ]
  },
  {
   "cell_type": "code",
   "execution_count": 19,
   "metadata": {},
   "outputs": [],
   "source": [
    "from contextual_decomposition import ContextualDecompositionExplainerTF"
   ]
  },
  {
   "cell_type": "code",
   "execution_count": 20,
   "metadata": {},
   "outputs": [],
   "source": [
    "nid_explainer = NeuralInteractionDetectionExplainerTF(subnetwork)"
   ]
  },
  {
   "cell_type": "code",
   "execution_count": 21,
   "metadata": {},
   "outputs": [],
   "source": [
    "interactions = nid_explainer.interactions()"
   ]
  },
  {
   "cell_type": "code",
   "execution_count": 22,
   "metadata": {},
   "outputs": [
    {
     "data": {
      "text/plain": [
       "array([[0.        , 0.32805729],\n",
       "       [0.32805729, 0.        ]])"
      ]
     },
     "execution_count": 22,
     "metadata": {},
     "output_type": "execute_result"
    }
   ],
   "source": [
    "interactions"
   ]
  },
  {
   "cell_type": "code",
   "execution_count": 23,
   "metadata": {},
   "outputs": [],
   "source": [
    "cd_explainer = ContextualDecompositionExplainerTF(subnetwork)"
   ]
  },
  {
   "cell_type": "code",
   "execution_count": 24,
   "metadata": {},
   "outputs": [],
   "source": [
    "attributions, _ = cd_explainer.attributions(fixed_values, 10)"
   ]
  },
  {
   "cell_type": "code",
   "execution_count": 25,
   "metadata": {},
   "outputs": [],
   "source": [
    "interactions, _ = cd_explainer.interactions(fixed_values, 10)\n",
    "interactions = interactions - attributions[:, np.newaxis, :] - attributions[:, :, np.newaxis]"
   ]
  },
  {
   "cell_type": "code",
   "execution_count": 26,
   "metadata": {},
   "outputs": [
    {
     "data": {
      "text/plain": [
       "array([[ 0.03002235, -0.00227935,  0.        ,  0.        ,  0.        ],\n",
       "       [-0.00227935,  0.01914803,  0.        ,  0.        ,  0.        ],\n",
       "       [ 0.        ,  0.        ,  0.        ,  0.        ,  0.        ],\n",
       "       [ 0.        ,  0.        ,  0.        ,  0.        ,  0.        ],\n",
       "       [ 0.        ,  0.        ,  0.        ,  0.        ,  0.        ]])"
      ]
     },
     "execution_count": 26,
     "metadata": {},
     "output_type": "execute_result"
    }
   ],
   "source": [
    "interactions[0]"
   ]
  }
 ],
 "metadata": {
  "kernelspec": {
   "display_name": "Python 3",
   "language": "python",
   "name": "python3"
  },
  "language_info": {
   "codemirror_mode": {
    "name": "ipython",
    "version": 3
   },
   "file_extension": ".py",
   "mimetype": "text/x-python",
   "name": "python",
   "nbconvert_exporter": "python",
   "pygments_lexer": "ipython3",
   "version": "3.7.4"
  }
 },
 "nbformat": 4,
 "nbformat_minor": 4
}
