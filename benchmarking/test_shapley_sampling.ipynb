{
 "cells": [
  {
   "cell_type": "code",
   "execution_count": 1,
   "metadata": {},
   "outputs": [],
   "source": [
    "%load_ext autoreload\n",
    "%autoreload 2"
   ]
  },
  {
   "cell_type": "code",
   "execution_count": 2,
   "metadata": {},
   "outputs": [],
   "source": [
    "import tensorflow as tf\n",
    "import pandas as pd\n",
    "import numpy as np\n",
    "import matplotlib.pyplot as plt\n",
    "\n",
    "from shapley_sampling import SamplingExplainerTF\n",
    "from path_explain import utils, scatter_plot, summary_plot"
   ]
  },
  {
   "cell_type": "code",
   "execution_count": 3,
   "metadata": {},
   "outputs": [],
   "source": [
    "utils.set_up_environment(visible_devices='0')"
   ]
  },
  {
   "cell_type": "code",
   "execution_count": 4,
   "metadata": {},
   "outputs": [],
   "source": [
    "n = 5000\n",
    "d = 5\n",
    "noise = 0.5\n",
    "X = np.random.randn(n, d)\n",
    "y = np.sum(X, axis=-1) + 2 * np.prod(X[:, 0:2], axis=-1)"
   ]
  },
  {
   "cell_type": "code",
   "execution_count": 5,
   "metadata": {},
   "outputs": [],
   "source": [
    "threshold = int(n * 0.8)\n",
    "X_train = X[:threshold]\n",
    "y_train = y[:threshold]\n",
    "X_test  = X[threshold:]\n",
    "y_test  = y[threshold:]"
   ]
  },
  {
   "cell_type": "code",
   "execution_count": 6,
   "metadata": {},
   "outputs": [],
   "source": [
    "model = tf.keras.models.Sequential()\n",
    "model.add(tf.keras.layers.Input(shape=(d,)))\n",
    "model.add(tf.keras.layers.Dense(units=10,\n",
    "                                use_bias=True,\n",
    "                                activation=tf.keras.activations.softplus))\n",
    "model.add(tf.keras.layers.Dense(units=5,\n",
    "                                use_bias=True,\n",
    "                                activation=tf.keras.activations.softplus))\n",
    "model.add(tf.keras.layers.Dense(units=1,\n",
    "                                use_bias=False,\n",
    "                                activation=None))"
   ]
  },
  {
   "cell_type": "code",
   "execution_count": 7,
   "metadata": {},
   "outputs": [
    {
     "name": "stdout",
     "output_type": "stream",
     "text": [
      "Model: \"sequential\"\n",
      "_________________________________________________________________\n",
      "Layer (type)                 Output Shape              Param #   \n",
      "=================================================================\n",
      "dense (Dense)                (None, 10)                60        \n",
      "_________________________________________________________________\n",
      "dense_1 (Dense)              (None, 5)                 55        \n",
      "_________________________________________________________________\n",
      "dense_2 (Dense)              (None, 1)                 5         \n",
      "=================================================================\n",
      "Total params: 120\n",
      "Trainable params: 120\n",
      "Non-trainable params: 0\n",
      "_________________________________________________________________\n"
     ]
    }
   ],
   "source": [
    "model.summary()"
   ]
  },
  {
   "cell_type": "code",
   "execution_count": 8,
   "metadata": {},
   "outputs": [],
   "source": [
    "learning_rate = 0.1\n",
    "model.compile(optimizer=tf.keras.optimizers.SGD(learning_rate),\n",
    "              loss=tf.keras.losses.MeanSquaredError())"
   ]
  },
  {
   "cell_type": "code",
   "execution_count": 9,
   "metadata": {},
   "outputs": [
    {
     "name": "stdout",
     "output_type": "stream",
     "text": [
      "Train on 799 samples, validate on 3201 samples\n",
      "Epoch 1/20\n",
      "799/799 - 1s - loss: 8.5372 - val_loss: 5.8078\n",
      "Epoch 2/20\n",
      "799/799 - 0s - loss: 4.6959 - val_loss: 2.7289\n",
      "Epoch 3/20\n",
      "799/799 - 0s - loss: 3.7328 - val_loss: 2.0947\n",
      "Epoch 4/20\n",
      "799/799 - 0s - loss: 1.8119 - val_loss: 0.8661\n",
      "Epoch 5/20\n",
      "799/799 - 0s - loss: 1.3304 - val_loss: 3.6915\n",
      "Epoch 6/20\n",
      "799/799 - 0s - loss: 0.7753 - val_loss: 0.4598\n",
      "Epoch 7/20\n",
      "799/799 - 0s - loss: 2.0733 - val_loss: 0.3761\n",
      "Epoch 8/20\n",
      "799/799 - 0s - loss: 0.6667 - val_loss: 0.3662\n",
      "Epoch 9/20\n",
      "799/799 - 0s - loss: 0.5221 - val_loss: 0.6424\n",
      "Epoch 10/20\n",
      "799/799 - 0s - loss: 0.4588 - val_loss: 0.2568\n",
      "Epoch 11/20\n",
      "799/799 - 0s - loss: 0.4425 - val_loss: 0.1611\n",
      "Epoch 12/20\n",
      "799/799 - 0s - loss: 0.3400 - val_loss: 0.2089\n",
      "Epoch 13/20\n",
      "799/799 - 0s - loss: 0.4785 - val_loss: 0.2157\n",
      "Epoch 14/20\n",
      "799/799 - 0s - loss: 0.2747 - val_loss: 0.1792\n",
      "Epoch 15/20\n",
      "799/799 - 0s - loss: 0.3683 - val_loss: 0.1861\n",
      "Epoch 16/20\n",
      "799/799 - 0s - loss: 0.2413 - val_loss: 0.1634\n",
      "Epoch 17/20\n",
      "799/799 - 0s - loss: 0.2008 - val_loss: 0.5965\n",
      "Epoch 18/20\n",
      "799/799 - 0s - loss: 0.2805 - val_loss: 0.1388\n",
      "Epoch 19/20\n",
      "799/799 - 0s - loss: 0.2624 - val_loss: 0.2427\n",
      "Epoch 20/20\n",
      "799/799 - 0s - loss: 0.2910 - val_loss: 0.1386\n"
     ]
    },
    {
     "data": {
      "text/plain": [
       "<tensorflow.python.keras.callbacks.History at 0x7fbdb0427090>"
      ]
     },
     "execution_count": 9,
     "metadata": {},
     "output_type": "execute_result"
    }
   ],
   "source": [
    "model.fit(X_train, y_train, batch_size=50, epochs=20, verbose=2, validation_split=0.8)"
   ]
  },
  {
   "cell_type": "code",
   "execution_count": 10,
   "metadata": {},
   "outputs": [
    {
     "name": "stdout",
     "output_type": "stream",
     "text": [
      "1000/1000 - 0s - loss: 0.1322\n"
     ]
    },
    {
     "data": {
      "text/plain": [
       "0.13215181622654198"
      ]
     },
     "execution_count": 10,
     "metadata": {},
     "output_type": "execute_result"
    }
   ],
   "source": [
    "model.evaluate(X_test, y_test, batch_size=50, verbose=2)"
   ]
  },
  {
   "cell_type": "code",
   "execution_count": 11,
   "metadata": {},
   "outputs": [],
   "source": [
    "y_test_pred = model.predict(X_test, batch_size=50)"
   ]
  },
  {
   "cell_type": "code",
   "execution_count": 12,
   "metadata": {},
   "outputs": [],
   "source": [
    "df = pd.DataFrame({\n",
    "    'Predicted Outcome': y_test_pred[:, 0],\n",
    "    'True Outcome': y_test\n",
    "})"
   ]
  },
  {
   "cell_type": "code",
   "execution_count": 13,
   "metadata": {},
   "outputs": [],
   "source": [
    "def scatterplot(x, y, df, title=None):\n",
    "    fig = plt.figure(dpi=100)\n",
    "    ax = fig.gca()\n",
    "    ax.scatter(df[x],\n",
    "               df[y],\n",
    "               s=10)\n",
    "    ax.grid(linestyle='--')\n",
    "    ax.set_axisbelow(True)\n",
    "    ax.set_xlabel(x, fontsize=11)\n",
    "    ax.set_ylabel(y, fontsize=11)\n",
    "    ax.spines['top'].set_linewidth(0.1)\n",
    "    ax.spines['right'].set_linewidth(0.1)\n",
    "    ax.set_title(title)"
   ]
  },
  {
   "cell_type": "code",
   "execution_count": 14,
   "metadata": {},
   "outputs": [
    {
     "data": {
      "image/png": "[encoded data removed]",
      "text/plain": [
       "<Figure size 600x400 with 1 Axes>"
      ]
     },
     "metadata": {
      "needs_background": "light"
     },
     "output_type": "display_data"
    }
   ],
   "source": [
    "scatterplot('Predicted Outcome', 'True Outcome', df)"
   ]
  },
  {
   "cell_type": "code",
   "execution_count": 15,
   "metadata": {},
   "outputs": [],
   "source": [
    "explainer = SamplingExplainerTF(model)"
   ]
  },
  {
   "cell_type": "code",
   "execution_count": 16,
   "metadata": {},
   "outputs": [],
   "source": [
    "feature_values = X_test"
   ]
  },
  {
   "cell_type": "code",
   "execution_count": 17,
   "metadata": {},
   "outputs": [
    {
     "name": "stdout",
     "output_type": "stream",
     "text": [
      "WARNING:tensorflow:Layer dense is casting an input tensor from dtype float64 to the layer's dtype of float32, which is new behavior in TensorFlow 2.  The layer has dtype float32 because it's dtype defaults to floatx.\n",
      "\n",
      "If you intended to run this layer in float32, you can safely ignore this warning. If in doubt, this warning is likely only an issue if you are porting a TensorFlow 1.X model to TensorFlow 2.\n",
      "\n",
      "To change all layers to have dtype float64 by default, call `tf.keras.backend.set_floatx('float64')`. To change just this layer, pass dtype='float64' to the layer constructor. If you are the author of this layer, you can disable autocasting by passing autocast=False to the base Layer constructor.\n",
      "\n"
     ]
    }
   ],
   "source": [
    "attributions = explainer.attributions(inputs=feature_values.astype(np.float32),\n",
    "                                      baselines=np.zeros(d),\n",
    "                                      batch_size=50,\n",
    "                                      number_of_samples=50,\n",
    "                                      output_index=None,\n",
    "                                      verbose=False)"
   ]
  },
  {
   "cell_type": "code",
   "execution_count": null,
   "metadata": {},
   "outputs": [],
   "source": [
    "interactions = explainer.interactions(inputs=feature_values.astype(np.float32),\n",
    "                                      baselines=np.zeros(d),\n",
    "                                      batch_size=50,\n",
    "                                      number_of_samples=50,\n",
    "                                      output_index=None,\n",
    "                                      verbose=False)"
   ]
  },
  {
   "cell_type": "code",
   "execution_count": null,
   "metadata": {},
   "outputs": [],
   "source": [
    "data_df = pd.DataFrame({\n",
    "    'Product': 2 * np.prod(feature_values[:, 0:2], axis=-1),\n",
    "    'Interaction': interactions[:, 0, 1]\n",
    "})"
   ]
  },
  {
   "cell_type": "code",
   "execution_count": null,
   "metadata": {},
   "outputs": [],
   "source": [
    "scatterplot('Product', 'Interaction', data_df)"
   ]
  },
  {
   "cell_type": "code",
   "execution_count": null,
   "metadata": {},
   "outputs": [],
   "source": [
    "fig, axs = scatter_plot(attributions,\n",
    "                        feature_values,\n",
    "                        feature_index=0,\n",
    "                        interactions=interactions * 0.5,\n",
    "                        color_by=1,\n",
    "                        feature_names=None,\n",
    "                        scale_y_ind=True)"
   ]
  },
  {
   "cell_type": "code",
   "execution_count": null,
   "metadata": {},
   "outputs": [],
   "source": [
    "summary_plot(attributions,\n",
    "             feature_values,\n",
    "             interactions=None,\n",
    "             interaction_feature=None,\n",
    "             feature_names=None,\n",
    "             plot_top_k=None)"
   ]
  },
  {
   "cell_type": "code",
   "execution_count": null,
   "metadata": {},
   "outputs": [],
   "source": [
    "summary_plot(attributions,\n",
    "             feature_values,\n",
    "             interactions=interactions,\n",
    "             interaction_feature=0,\n",
    "             feature_names=None,\n",
    "             plot_top_k=None)"
   ]
  }
 ],
 "metadata": {
  "kernelspec": {
   "display_name": "Python 3",
   "language": "python",
   "name": "python3"
  },
  "language_info": {
   "codemirror_mode": {
    "name": "ipython",
    "version": 3
   },
   "file_extension": ".py",
   "mimetype": "text/x-python",
   "name": "python",
   "nbconvert_exporter": "python",
   "pygments_lexer": "ipython3",
   "version": "3.7.4"
  }
 },
 "nbformat": 4,
 "nbformat_minor": 4
}
