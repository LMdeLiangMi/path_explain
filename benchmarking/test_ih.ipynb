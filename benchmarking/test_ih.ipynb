{
 "cells": [
  {
   "cell_type": "code",
   "execution_count": 1,
   "metadata": {},
   "outputs": [],
   "source": [
    "import tensorflow as tf\n",
    "import numpy as np\n",
    "import matplotlib.pyplot as plt\n",
    "from path_explain import PathExplainerTF, summary_plot, scatter_plot, set_up_environment, softplus_activation"
   ]
  },
  {
   "cell_type": "code",
   "execution_count": 2,
   "metadata": {},
   "outputs": [],
   "source": [
    "n = 5000\n",
    "d = 5\n",
    "noise = 0.5\n",
    "X = np.random.randn(n, d).astype(np.float32)\n",
    "y = np.prod(X[:, 0:2], axis=-1)"
   ]
  },
  {
   "cell_type": "code",
   "execution_count": 3,
   "metadata": {},
   "outputs": [],
   "source": [
    "threshold = int(n * 0.8)\n",
    "x_train = X[:threshold]\n",
    "y_train = y[:threshold]\n",
    "x_test  = X[threshold:]\n",
    "y_test  = y[threshold:]"
   ]
  },
  {
   "cell_type": "code",
   "execution_count": 4,
   "metadata": {},
   "outputs": [],
   "source": [
    "model = tf.keras.models.Sequential()\n",
    "model.add(tf.keras.layers.Input(shape=(d,)))\n",
    "model.add(tf.keras.layers.Dense(units=10,\n",
    "                                use_bias=True,\n",
    "                                activation=tf.keras.activations.relu))\n",
    "model.add(tf.keras.layers.Dense(units=5,\n",
    "                                use_bias=True,\n",
    "                                activation=tf.keras.activations.relu))\n",
    "model.add(tf.keras.layers.Dense(units=1,\n",
    "                                use_bias=False,\n",
    "                                activation=None))"
   ]
  },
  {
   "cell_type": "code",
   "execution_count": 5,
   "metadata": {},
   "outputs": [
    {
     "name": "stdout",
     "output_type": "stream",
     "text": [
      "Model: \"sequential\"\n",
      "_________________________________________________________________\n",
      "Layer (type)                 Output Shape              Param #   \n",
      "=================================================================\n",
      "dense (Dense)                (None, 10)                60        \n",
      "_________________________________________________________________\n",
      "dense_1 (Dense)              (None, 5)                 55        \n",
      "_________________________________________________________________\n",
      "dense_2 (Dense)              (None, 1)                 5         \n",
      "=================================================================\n",
      "Total params: 120\n",
      "Trainable params: 120\n",
      "Non-trainable params: 0\n",
      "_________________________________________________________________\n"
     ]
    }
   ],
   "source": [
    "model.summary()"
   ]
  },
  {
   "cell_type": "code",
   "execution_count": 6,
   "metadata": {},
   "outputs": [],
   "source": [
    "learning_rate = 0.1\n",
    "model.compile(optimizer=tf.keras.optimizers.SGD(learning_rate),\n",
    "              loss=tf.keras.losses.MeanSquaredError())"
   ]
  },
  {
   "cell_type": "code",
   "execution_count": 7,
   "metadata": {},
   "outputs": [
    {
     "name": "stdout",
     "output_type": "stream",
     "text": [
      "Train on 4000 samples, validate on 1000 samples\n",
      "Epoch 1/20\n",
      "4000/4000 - 0s - loss: 0.3718 - val_loss: 0.1381\n",
      "Epoch 2/20\n",
      "4000/4000 - 0s - loss: 0.1303 - val_loss: 0.0999\n",
      "Epoch 3/20\n",
      "4000/4000 - 0s - loss: 0.1020 - val_loss: 0.0775\n",
      "Epoch 4/20\n",
      "4000/4000 - 0s - loss: 0.0777 - val_loss: 0.0745\n",
      "Epoch 5/20\n",
      "4000/4000 - 0s - loss: 0.0583 - val_loss: 0.0474\n",
      "Epoch 6/20\n",
      "4000/4000 - 0s - loss: 0.0456 - val_loss: 0.0426\n",
      "Epoch 7/20\n",
      "4000/4000 - 0s - loss: 0.0395 - val_loss: 0.0303\n",
      "Epoch 8/20\n",
      "4000/4000 - 0s - loss: 0.0382 - val_loss: 0.0279\n",
      "Epoch 9/20\n",
      "4000/4000 - 0s - loss: 0.0359 - val_loss: 0.0283\n",
      "Epoch 10/20\n",
      "4000/4000 - 0s - loss: 0.0353 - val_loss: 0.0284\n",
      "Epoch 11/20\n",
      "4000/4000 - 0s - loss: 0.0347 - val_loss: 0.0374\n",
      "Epoch 12/20\n",
      "4000/4000 - 0s - loss: 0.0342 - val_loss: 0.0277\n",
      "Epoch 13/20\n",
      "4000/4000 - 0s - loss: 0.0337 - val_loss: 0.0275\n",
      "Epoch 14/20\n",
      "4000/4000 - 0s - loss: 0.0328 - val_loss: 0.0283\n",
      "Epoch 15/20\n",
      "4000/4000 - 0s - loss: 0.0334 - val_loss: 0.0255\n",
      "Epoch 16/20\n",
      "4000/4000 - 0s - loss: 0.0328 - val_loss: 0.0297\n",
      "Epoch 17/20\n",
      "4000/4000 - 0s - loss: 0.0324 - val_loss: 0.0279\n",
      "Epoch 18/20\n",
      "4000/4000 - 0s - loss: 0.0319 - val_loss: 0.0267\n",
      "Epoch 19/20\n",
      "4000/4000 - 0s - loss: 0.0315 - val_loss: 0.0250\n",
      "Epoch 20/20\n",
      "4000/4000 - 0s - loss: 0.0316 - val_loss: 0.0250\n"
     ]
    },
    {
     "data": {
      "text/plain": [
       "<tensorflow.python.keras.callbacks.History at 0x7fd54009bc10>"
      ]
     },
     "execution_count": 7,
     "metadata": {},
     "output_type": "execute_result"
    }
   ],
   "source": [
    "model.fit(x_train, y_train, batch_size=50, epochs=20, verbose=2, validation_data=(x_test, y_test))"
   ]
  },
  {
   "cell_type": "code",
   "execution_count": 8,
   "metadata": {},
   "outputs": [],
   "source": [
    "interpret_model = tf.keras.models.clone_model(model)\n",
    "interpret_model.layers[0].activation = softplus_activation(beta=10.0)\n",
    "interpret_model.layers[1].activation = softplus_activation(beta=10.0)"
   ]
  },
  {
   "cell_type": "code",
   "execution_count": null,
   "metadata": {},
   "outputs": [
    {
     "name": "stderr",
     "output_type": "stream",
     "text": [
      " 84%|████████▎ | 167/200 [01:59<00:23,  1.40it/s]"
     ]
    }
   ],
   "source": [
    "path_explainer  = PathExplainerTF(interpret_model)\n",
    "\n",
    "ih_interactions = path_explainer.interactions(inputs=x_test[:200],\n",
    "                                              baseline=np.zeros((1, x_test.shape[1])).astype(np.float32),\n",
    "                                              batch_size=50,\n",
    "                                              num_samples=50,\n",
    "                                              use_expectation=False,\n",
    "                                              output_indices=0,\n",
    "                                              verbose=True,\n",
    "                                              interaction_index=None)"
   ]
  },
  {
   "cell_type": "code",
   "execution_count": null,
   "metadata": {},
   "outputs": [],
   "source": [
    "attributions = path_explainer.attributions(inputs=x_test[:200],\n",
    "                                              baseline=np.zeros((1, x_test.shape[1])).astype(np.float32),\n",
    "                                              batch_size=50,\n",
    "                                              num_samples=50,\n",
    "                                              use_expectation=False,\n",
    "                                              output_indices=0,\n",
    "                                              verbose=True)"
   ]
  },
  {
   "cell_type": "code",
   "execution_count": null,
   "metadata": {},
   "outputs": [],
   "source": [
    "summary_plot(attributions,\n",
    "             feature_values=x_test[:200],\n",
    "             plot_top_k=5)"
   ]
  },
  {
   "cell_type": "code",
   "execution_count": null,
   "metadata": {},
   "outputs": [],
   "source": [
    "scatter_plot(attributions,\n",
    "             feature_values=x_test[:200],\n",
    "             feature_index=0,\n",
    "             interactions=ih_interactions,\n",
    "             color_by=1,\n",
    "             scale_x_ind=True,\n",
    "             scale_y_ind=True,\n",
    "             plot_main=False)"
   ]
  }
 ],
 "metadata": {
  "kernelspec": {
   "display_name": "Python 3",
   "language": "python",
   "name": "python3"
  },
  "language_info": {
   "codemirror_mode": {
    "name": "ipython",
    "version": 3
   },
   "file_extension": ".py",
   "mimetype": "text/x-python",
   "name": "python",
   "nbconvert_exporter": "python",
   "pygments_lexer": "ipython3",
   "version": "3.7.4"
  }
 },
 "nbformat": 4,
 "nbformat_minor": 4
}
