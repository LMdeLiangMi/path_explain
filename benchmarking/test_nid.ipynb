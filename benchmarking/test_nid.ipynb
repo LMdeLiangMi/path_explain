{
 "cells": [
  {
   "cell_type": "code",
   "execution_count": 1,
   "metadata": {},
   "outputs": [],
   "source": [
    "%load_ext autoreload\n",
    "%autoreload 2"
   ]
  },
  {
   "cell_type": "code",
   "execution_count": 2,
   "metadata": {},
   "outputs": [],
   "source": [
    "import tensorflow as tf\n",
    "import pandas as pd\n",
    "import numpy as np\n",
    "import matplotlib.pyplot as plt\n",
    "\n",
    "from neural_interaction_detection import NeuralInteractionDetectionExplainerTF\n",
    "from path_explain import utils, scatter_plot, summary_plot"
   ]
  },
  {
   "cell_type": "code",
   "execution_count": 3,
   "metadata": {},
   "outputs": [],
   "source": [
    "utils.set_up_environment(visible_devices='0')"
   ]
  },
  {
   "cell_type": "code",
   "execution_count": 4,
   "metadata": {},
   "outputs": [],
   "source": [
    "n = 5000\n",
    "d = 5\n",
    "noise = 0.5\n",
    "X = np.random.randn(n, d)\n",
    "y = np.sum(X, axis=-1) + 2 * np.prod(X[:, 0:2], axis=-1)"
   ]
  },
  {
   "cell_type": "code",
   "execution_count": 5,
   "metadata": {},
   "outputs": [],
   "source": [
    "threshold = int(n * 0.8)\n",
    "X_train = X[:threshold]\n",
    "y_train = y[:threshold]\n",
    "X_test  = X[threshold:]\n",
    "y_test  = y[threshold:]"
   ]
  },
  {
   "cell_type": "code",
   "execution_count": 6,
   "metadata": {},
   "outputs": [],
   "source": [
    "model = tf.keras.models.Sequential()\n",
    "model.add(tf.keras.layers.Input(shape=(d,)))\n",
    "model.add(tf.keras.layers.Dense(units=10,\n",
    "                                use_bias=True,\n",
    "                                activation=tf.keras.activations.softplus))\n",
    "model.add(tf.keras.layers.Dense(units=5,\n",
    "                                use_bias=True,\n",
    "                                activation=tf.keras.activations.softplus))\n",
    "model.add(tf.keras.layers.Dense(units=1,\n",
    "                                use_bias=False,\n",
    "                                activation=None))"
   ]
  },
  {
   "cell_type": "code",
   "execution_count": 7,
   "metadata": {},
   "outputs": [
    {
     "name": "stdout",
     "output_type": "stream",
     "text": [
      "Model: \"sequential\"\n",
      "_________________________________________________________________\n",
      "Layer (type)                 Output Shape              Param #   \n",
      "=================================================================\n",
      "dense (Dense)                (None, 10)                60        \n",
      "_________________________________________________________________\n",
      "dense_1 (Dense)              (None, 5)                 55        \n",
      "_________________________________________________________________\n",
      "dense_2 (Dense)              (None, 1)                 5         \n",
      "=================================================================\n",
      "Total params: 120\n",
      "Trainable params: 120\n",
      "Non-trainable params: 0\n",
      "_________________________________________________________________\n"
     ]
    }
   ],
   "source": [
    "model.summary()"
   ]
  },
  {
   "cell_type": "code",
   "execution_count": 8,
   "metadata": {},
   "outputs": [],
   "source": [
    "learning_rate = 0.1\n",
    "model.compile(optimizer=tf.keras.optimizers.SGD(learning_rate),\n",
    "              loss=tf.keras.losses.MeanSquaredError())"
   ]
  },
  {
   "cell_type": "code",
   "execution_count": 9,
   "metadata": {},
   "outputs": [
    {
     "name": "stdout",
     "output_type": "stream",
     "text": [
      "Train on 799 samples, validate on 3201 samples\n",
      "Epoch 1/20\n",
      "799/799 - 1s - loss: 7.1516 - val_loss: 4.2218\n",
      "Epoch 2/20\n",
      "799/799 - 0s - loss: 3.4949 - val_loss: 2.0439\n",
      "Epoch 3/20\n",
      "799/799 - 0s - loss: 2.6187 - val_loss: 3.0671\n",
      "Epoch 4/20\n",
      "799/799 - 0s - loss: 1.3953 - val_loss: 1.8937\n",
      "Epoch 5/20\n",
      "799/799 - 0s - loss: 1.8726 - val_loss: 0.8704\n",
      "Epoch 6/20\n",
      "799/799 - 0s - loss: 0.9530 - val_loss: 0.2327\n",
      "Epoch 7/20\n",
      "799/799 - 0s - loss: 0.6763 - val_loss: 0.3884\n",
      "Epoch 8/20\n",
      "799/799 - 0s - loss: 0.3941 - val_loss: 1.9346\n",
      "Epoch 9/20\n",
      "799/799 - 0s - loss: 4.6098 - val_loss: 0.7277\n",
      "Epoch 10/20\n",
      "799/799 - 0s - loss: 2.1247 - val_loss: 0.2668\n",
      "Epoch 11/20\n",
      "799/799 - 0s - loss: 0.4663 - val_loss: 0.3896\n",
      "Epoch 12/20\n",
      "799/799 - 0s - loss: 0.3508 - val_loss: 0.8325\n",
      "Epoch 13/20\n",
      "799/799 - 0s - loss: 0.6258 - val_loss: 5.4989\n",
      "Epoch 14/20\n",
      "799/799 - 0s - loss: 1.0269 - val_loss: 0.2426\n",
      "Epoch 15/20\n",
      "799/799 - 0s - loss: 0.3054 - val_loss: 0.3093\n",
      "Epoch 16/20\n",
      "799/799 - 0s - loss: 0.3523 - val_loss: 0.1442\n",
      "Epoch 17/20\n",
      "799/799 - 0s - loss: 0.3019 - val_loss: 0.2571\n",
      "Epoch 18/20\n",
      "799/799 - 0s - loss: 0.4568 - val_loss: 0.2540\n",
      "Epoch 19/20\n",
      "799/799 - 0s - loss: 1.1619 - val_loss: 0.1514\n",
      "Epoch 20/20\n",
      "799/799 - 0s - loss: 0.4791 - val_loss: 0.5656\n"
     ]
    },
    {
     "data": {
      "text/plain": [
       "<tensorflow.python.keras.callbacks.History at 0x7fa8f007a990>"
      ]
     },
     "execution_count": 9,
     "metadata": {},
     "output_type": "execute_result"
    }
   ],
   "source": [
    "model.fit(X_train, y_train, batch_size=50, epochs=20, verbose=2, validation_split=0.8)"
   ]
  },
  {
   "cell_type": "code",
   "execution_count": 10,
   "metadata": {},
   "outputs": [
    {
     "name": "stdout",
     "output_type": "stream",
     "text": [
      "1000/1000 - 0s - loss: 0.6316\n"
     ]
    },
    {
     "data": {
      "text/plain": [
       "0.6315549954771995"
      ]
     },
     "execution_count": 10,
     "metadata": {},
     "output_type": "execute_result"
    }
   ],
   "source": [
    "model.evaluate(X_test, y_test, batch_size=50, verbose=2)"
   ]
  },
  {
   "cell_type": "code",
   "execution_count": 11,
   "metadata": {},
   "outputs": [],
   "source": [
    "y_test_pred = model.predict(X_test, batch_size=50)"
   ]
  },
  {
   "cell_type": "code",
   "execution_count": 12,
   "metadata": {},
   "outputs": [],
   "source": [
    "df = pd.DataFrame({\n",
    "    'Predicted Outcome': y_test_pred[:, 0],\n",
    "    'True Outcome': y_test\n",
    "})"
   ]
  },
  {
   "cell_type": "code",
   "execution_count": 13,
   "metadata": {},
   "outputs": [],
   "source": [
    "def scatterplot(x, y, df, title=None):\n",
    "    fig = plt.figure(dpi=100)\n",
    "    ax = fig.gca()\n",
    "    ax.scatter(df[x],\n",
    "               df[y],\n",
    "               s=10)\n",
    "    ax.grid(linestyle='--')\n",
    "    ax.set_axisbelow(True)\n",
    "    ax.set_xlabel(x, fontsize=11)\n",
    "    ax.set_ylabel(y, fontsize=11)\n",
    "    ax.spines['top'].set_linewidth(0.1)\n",
    "    ax.spines['right'].set_linewidth(0.1)\n",
    "    ax.set_title(title)"
   ]
  },
  {
   "cell_type": "code",
   "execution_count": 14,
   "metadata": {},
   "outputs": [
    {
     "data": {
      "image/png": "[encoded data removed]",
      "text/plain": [
       "<Figure size 600x400 with 1 Axes>"
      ]
     },
     "metadata": {
      "needs_background": "light"
     },
     "output_type": "display_data"
    }
   ],
   "source": [
    "scatterplot('Predicted Outcome', 'True Outcome', df)"
   ]
  },
  {
   "cell_type": "code",
   "execution_count": 15,
   "metadata": {},
   "outputs": [],
   "source": [
    "explainer = NeuralInteractionDetectionExplainerTF(model)"
   ]
  },
  {
   "cell_type": "code",
   "execution_count": 16,
   "metadata": {},
   "outputs": [],
   "source": [
    "feature_values = X_test"
   ]
  },
  {
   "cell_type": "code",
   "execution_count": 17,
   "metadata": {},
   "outputs": [],
   "source": [
    "interactions = explainer.interactions(batch_size=50,\n",
    "                                      output_index=None,\n",
    "                                      verbose=False)"
   ]
  },
  {
   "cell_type": "code",
   "execution_count": 19,
   "metadata": {},
   "outputs": [
    {
     "data": {
      "text/plain": [
       "array([[ 0.        , 26.11245918,  7.35325241,  8.28126144,  7.86948872],\n",
       "       [26.11245918,  0.        ,  7.35325241,  8.36361599,  8.38470364],\n",
       "       [ 7.35325241,  7.35325241,  0.        ,  6.14803076,  5.63367748],\n",
       "       [ 8.28126144,  8.36361599,  6.14803076,  0.        ,  6.90138435],\n",
       "       [ 7.86948872,  8.38470364,  5.63367748,  6.90138435,  0.        ]])"
      ]
     },
     "execution_count": 19,
     "metadata": {},
     "output_type": "execute_result"
    }
   ],
   "source": [
    "interactions"
   ]
  },
  {
   "cell_type": "code",
   "execution_count": 22,
   "metadata": {},
   "outputs": [],
   "source": [
    "multiplied_interactions = interactions[np.newaxis] * feature_values[:, np.newaxis, :] * feature_values[:, :, np.newaxis]"
   ]
  },
  {
   "cell_type": "code",
   "execution_count": 26,
   "metadata": {},
   "outputs": [],
   "source": [
    "data_df = pd.DataFrame({\n",
    "    'Product': 2 * np.prod(feature_values[:, 0:2], axis=-1),\n",
    "    'Interaction': multiplied_interactions[:, 0, 1]\n",
    "})"
   ]
  },
  {
   "cell_type": "code",
   "execution_count": 27,
   "metadata": {},
   "outputs": [
    {
     "data": {
      "image/png": "[encoded data removed]",
      "text/plain": [
       "<Figure size 600x400 with 1 Axes>"
      ]
     },
     "metadata": {
      "needs_background": "light"
     },
     "output_type": "display_data"
    }
   ],
   "source": [
    "scatterplot('Product', 'Interaction', data_df)"
   ]
  }
 ],
 "metadata": {
  "kernelspec": {
   "display_name": "Python 3",
   "language": "python",
   "name": "python3"
  },
  "language_info": {
   "codemirror_mode": {
    "name": "ipython",
    "version": 3
   },
   "file_extension": ".py",
   "mimetype": "text/x-python",
   "name": "python",
   "nbconvert_exporter": "python",
   "pygments_lexer": "ipython3",
   "version": "3.7.4"
  }
 },
 "nbformat": 4,
 "nbformat_minor": 4
}
